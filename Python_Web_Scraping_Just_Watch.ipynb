{
  "cells": [
    {
      "cell_type": "markdown",
      "metadata": {
        "id": "bKFlk3slQ1ol"
      },
      "source": [
        "# **Web Scraping & Data Handling Challenge**"
      ]
    },
    {
      "cell_type": "markdown",
      "metadata": {
        "id": "YU_opgaCYpcO"
      },
      "source": [
        "\n",
        "\n",
        "### **Website:**\n",
        "JustWatch -  https://www.justwatch.com/in/movies?release_year_from=2000\n",
        "\n",
        "\n",
        "### **Description:**\n",
        "\n",
        "JustWatch is a popular platform that allows users to search for movies and TV shows across multiple streaming services like Netflix, Amazon Prime, Hulu, etc. For this assignment, you will be required to scrape movie and TV show data from JustWatch using Selenium, Python, and BeautifulSoup. Extract data from HTML, not by directly calling their APIs. Then, perform data filtering and analysis using Pandas, and finally, save the results to a CSV file.\n",
        "\n",
        "### **Tasks:**\n",
        "\n",
        "**1. Web Scraping:**\n",
        "\n",
        "Use BeautifulSoup to scrape the following data from JustWatch:\n",
        "\n",
        "   **a. Movie Information:**\n",
        "\n",
        "      - Movie title\n",
        "      - Release year\n",
        "      - Genre\n",
        "      - IMDb rating\n",
        "      - Streaming services available (Netflix, Amazon Prime, Hulu, etc.)\n",
        "      - URL to the movie page on JustWatch\n",
        "\n",
        "   **b. TV Show Information:**\n",
        "\n",
        "      - TV show title\n",
        "      - Release year\n",
        "      - Genre\n",
        "      - IMDb rating\n",
        "      - Streaming services available (Netflix, Amazon Prime, Hulu, etc.)\n",
        "      - URL to the TV show page on JustWatch\n",
        "\n",
        "  **c. Scope:**\n",
        "\n",
        "```\n",
        " ` - Scrape data for at least 50 movies and 50 TV shows.\n",
        "   - You can choose the entry point (e.g., starting with popular movies,\n",
        "     or a specific genre, etc.) to ensure a diverse dataset.`\n",
        "\n",
        "```\n",
        "\n",
        "\n",
        "**2. Data Filtering & Analysis:**\n",
        "\n",
        "   After scraping the data, use Pandas to perform the following tasks:\n",
        "\n",
        "   **a. Filter movies and TV shows based on specific criteria:**\n",
        "\n",
        "   ```\n",
        "      - Only include movies and TV shows released in the last 2 years (from the current date).\n",
        "      - Only include movies and TV shows with an IMDb rating of 7 or higher.\n",
        "```\n",
        "\n",
        "   **b. Data Analysis:**\n",
        "\n",
        "   ```\n",
        "      - Calculate the average IMDb rating for the scraped movies and TV shows.\n",
        "      - Identify the top 5 genres that have the highest number of available movies and TV shows.\n",
        "      - Determine the streaming service with the most significant number of offerings.\n",
        "      \n",
        "   ```   \n",
        "\n",
        "**3. Data Export:**\n",
        "\n",
        "```\n",
        "   - Dump the filtered and analysed data into a CSV file for further processing and reporting.\n",
        "\n",
        "   - Keep the CSV file in your Drive Folder and Share the Drive link on the colab while keeping view access with anyone.\n",
        "```\n",
        "\n",
        "**Submission:**\n",
        "```\n",
        "- Submit a link to your Colab made for the assignment.\n",
        "\n",
        "- The Colab should contain your Python script (.py format only) with clear\n",
        "  comments explaining the scraping, filtering, and analysis process.\n",
        "\n",
        "- Your Code shouldn't have any errors and should be executable at a one go.\n",
        "\n",
        "- Before Conclusion, Keep your Dataset Drive Link in the Notebook.\n",
        "```\n",
        "\n",
        "\n",
        "\n",
        "**Note:**\n",
        "\n",
        "1. Properly handle errors and exceptions during web scraping to ensure a robust script.\n",
        "\n",
        "2. Make sure your code is well-structured, easy to understand, and follows Python best practices.\n",
        "\n",
        "3. The assignment will be evaluated based on the correctness of the scraped data, accuracy of data filtering and analysis, and the overall quality of the Python code.\n",
        "\n",
        "\n",
        "\n",
        "\n",
        "\n",
        "\n"
      ]
    },
    {
      "cell_type": "markdown",
      "metadata": {
        "id": "k8ptoMlNQ5zB"
      },
      "source": [
        "# **Start The Project**"
      ]
    },
    {
      "cell_type": "markdown",
      "metadata": {
        "id": "-xHLaFLPn4yC"
      },
      "source": [
        "## **Task 1:- Web Scrapping**"
      ]
    },
    {
      "cell_type": "code",
      "execution_count": null,
      "metadata": {
        "colab": {
          "base_uri": "https://localhost:8080/"
        },
        "id": "axiEsy9ZL3qd",
        "outputId": "cb094c05-dd9b-4b9b-f2ea-09d293c11e34"
      },
      "outputs": [
        {
          "name": "stdout",
          "output_type": "stream",
          "text": [
            "Requirement already satisfied: bs4 in c:\\users\\rajan\\appdata\\local\\programs\\python\\python311\\lib\\site-packages (0.0.1)\n",
            "Requirement already satisfied: beautifulsoup4 in c:\\users\\rajan\\appdata\\local\\programs\\python\\python311\\lib\\site-packages (from bs4) (4.11.1)\n",
            "Requirement already satisfied: soupsieve>1.2 in c:\\users\\rajan\\appdata\\local\\programs\\python\\python311\\lib\\site-packages (from beautifulsoup4->bs4) (2.3.2.post1)\n",
            "Requirement already satisfied: requests in c:\\users\\rajan\\appdata\\local\\programs\\python\\python311\\lib\\site-packages (2.31.0)\n",
            "Requirement already satisfied: charset-normalizer<4,>=2 in c:\\users\\rajan\\appdata\\local\\programs\\python\\python311\\lib\\site-packages (from requests) (2.1.1)\n",
            "Requirement already satisfied: idna<4,>=2.5 in c:\\users\\rajan\\appdata\\local\\programs\\python\\python311\\lib\\site-packages (from requests) (3.4)\n",
            "Requirement already satisfied: urllib3<3,>=1.21.1 in c:\\users\\rajan\\appdata\\local\\programs\\python\\python311\\lib\\site-packages (from requests) (1.26.14)\n",
            "Requirement already satisfied: certifi>=2017.4.17 in c:\\users\\rajan\\appdata\\local\\programs\\python\\python311\\lib\\site-packages (from requests) (2022.12.7)\n",
            "Requirement already satisfied: wordcloud in c:\\users\\rajan\\appdata\\local\\programs\\python\\python311\\lib\\site-packages (1.9.3)\n",
            "Requirement already satisfied: numpy>=1.6.1 in c:\\users\\rajan\\appdata\\local\\programs\\python\\python311\\lib\\site-packages (from wordcloud) (1.23.5)\n",
            "Requirement already satisfied: pillow in c:\\users\\rajan\\appdata\\local\\programs\\python\\python311\\lib\\site-packages (from wordcloud) (9.4.0)\n",
            "Requirement already satisfied: matplotlib in c:\\users\\rajan\\appdata\\local\\programs\\python\\python311\\lib\\site-packages (from wordcloud) (3.7.0)\n",
            "Requirement already satisfied: contourpy>=1.0.1 in c:\\users\\rajan\\appdata\\local\\programs\\python\\python311\\lib\\site-packages (from matplotlib->wordcloud) (1.0.7)\n",
            "Requirement already satisfied: cycler>=0.10 in c:\\users\\rajan\\appdata\\local\\programs\\python\\python311\\lib\\site-packages (from matplotlib->wordcloud) (0.11.0)\n",
            "Requirement already satisfied: fonttools>=4.22.0 in c:\\users\\rajan\\appdata\\local\\programs\\python\\python311\\lib\\site-packages (from matplotlib->wordcloud) (4.38.0)\n",
            "Requirement already satisfied: kiwisolver>=1.0.1 in c:\\users\\rajan\\appdata\\local\\programs\\python\\python311\\lib\\site-packages (from matplotlib->wordcloud) (1.4.4)\n",
            "Requirement already satisfied: packaging>=20.0 in c:\\users\\rajan\\appdata\\local\\programs\\python\\python311\\lib\\site-packages (from matplotlib->wordcloud) (23.0)\n",
            "Requirement already satisfied: pyparsing>=2.3.1 in c:\\users\\rajan\\appdata\\local\\programs\\python\\python311\\lib\\site-packages (from matplotlib->wordcloud) (3.0.9)\n",
            "Requirement already satisfied: python-dateutil>=2.7 in c:\\users\\rajan\\appdata\\local\\programs\\python\\python311\\lib\\site-packages (from matplotlib->wordcloud) (2.8.2)\n",
            "Requirement already satisfied: six>=1.5 in c:\\users\\rajan\\appdata\\local\\programs\\python\\python311\\lib\\site-packages (from python-dateutil>=2.7->matplotlib->wordcloud) (1.16.0)\n"
          ]
        }
      ],
      "source": [
        "#Installing all necessary labraries\n",
        "!pip install bs4\n",
        "!pip install requests\n",
        "!pip install wordcloud"
      ]
    },
    {
      "cell_type": "code",
      "execution_count": null,
      "metadata": {
        "id": "omJlLZASQBmU"
      },
      "outputs": [],
      "source": [
        "#import all necessary labraries\n",
        "import requests\n",
        "from bs4 import BeautifulSoup\n",
        "import re\n",
        "import pandas as pd\n",
        "import numpy as np\n",
        "import time\n",
        "from wordcloud import WordCloud\n",
        "import matplotlib.pyplot as plt"
      ]
    },
    {
      "cell_type": "markdown",
      "metadata": {
        "id": "NCWbwB1Og3bD"
      },
      "source": [
        "## **Scrapping Movies Data**"
      ]
    },
    {
      "cell_type": "code",
      "execution_count": null,
      "metadata": {
        "id": "nPDgza5mQJKr",
        "scrolled": false
      },
      "outputs": [],
      "source": [
        "# Specifying the URL from which movies related data will be fetched\n",
        "url='https://www.justwatch.com/in/movies?release_year_from=2000'\n",
        "\n",
        "# Sending an HTTP GET request to the URL\n",
        "page=requests.get(url)\n",
        "# Parsing the HTML content using BeautifulSoup with the 'html.parser'\n",
        "soup=BeautifulSoup(page.text,'html.parser')\n",
        "# Printing the prettified HTML content\n",
        "# print(soup.prettify())"
      ]
    },
    {
      "cell_type": "code",
      "execution_count": null,
      "metadata": {
        "id": "17G7NTkCN-8C"
      },
      "outputs": [],
      "source": [
        "movie_info = soup.find_all('div', class_='title-list-grid__item')"
      ]
    },
    {
      "cell_type": "markdown",
      "metadata": {
        "id": "V-qsNrtIsBEp"
      },
      "source": [
        "## **Fetching Movie URL's**"
      ]
    },
    {
      "cell_type": "code",
      "execution_count": null,
      "metadata": {
        "id": "nXj9U4lshQY1",
        "outputId": "aa0a9835-e40f-40a5-ded8-462d8605088a"
      },
      "outputs": [
        {
          "data": {
            "text/plain": [
              "100"
            ]
          },
          "execution_count": 5,
          "metadata": {},
          "output_type": "execute_result"
        }
      ],
      "source": [
        "movie_url_list = []\n",
        "for movie in movie_info:\n",
        "  get_link = movie.find('a')['href']\n",
        "  links = 'https://www.justwatch.com'+ get_link\n",
        "  movie_url_list.append(links)\n",
        "movie_url_list\n",
        "len(movie_url_list)"
      ]
    },
    {
      "cell_type": "markdown",
      "metadata": {
        "id": "7Tb9vrqvN-8F"
      },
      "source": [
        "## Scraping the datails"
      ]
    },
    {
      "cell_type": "code",
      "execution_count": null,
      "metadata": {
        "id": "_O0sjpMEN-8F",
        "outputId": "a1a20325-5667-4237-bf0e-550909161a8a"
      },
      "outputs": [
        {
          "name": "stdout",
          "output_type": "stream",
          "text": [
            "Scraping for movie url https://www.justwatch.com/in/movie/animal-2022\n",
            "Scraping for movie url https://www.justwatch.com/in/movie/salaar\n",
            "Scraping for movie url https://www.justwatch.com/in/movie/dunki\n",
            "Scraping for movie url https://www.justwatch.com/in/movie/12th-fail\n",
            "Scraping for movie url https://www.justwatch.com/in/movie/sam-bahadur\n",
            "Scraping for movie url https://www.justwatch.com/in/movie/oppenheimer\n",
            "Scraping for movie url https://www.justwatch.com/in/movie/the-kerala-story\n",
            "Scraping for movie url https://www.justwatch.com/in/movie/anyone-but-you\n",
            "Scraping for movie url https://www.justwatch.com/in/movie/ssmb-28\n",
            "Scraping for movie url https://www.justwatch.com/in/movie/dune-2021\n",
            "Scraping for movie url https://www.justwatch.com/in/movie/aquaman-and-the-lost-kingdom\n",
            "Scraping for movie url https://www.justwatch.com/in/movie/captain-miller\n",
            "Scraping for movie url https://www.justwatch.com/in/movie/ayalaan\n",
            "Scraping for movie url https://www.justwatch.com/in/movie/hanu-man\n",
            "Scraping for movie url https://www.justwatch.com/in/movie/fighter-2022\n",
            "Scraping for movie url https://www.justwatch.com/in/movie/the-beekeeper-2024\n",
            "Scraping for movie url https://www.justwatch.com/in/movie/neru\n",
            "Scraping for movie url https://www.justwatch.com/in/movie/migration\n",
            "Scraping for movie url https://www.justwatch.com/in/movie/jawan\n",
            "Scraping for movie url https://www.justwatch.com/in/movie/sapta-sagaradaache-ello-side-b\n",
            "Scraping for movie url https://www.justwatch.com/in/movie/the-marvels\n",
            "Scraping for movie url https://www.justwatch.com/in/movie/poor-things\n",
            "Scraping for movie url https://www.justwatch.com/in/movie/anatomie-dune-chute\n",
            "Scraping for movie url https://www.justwatch.com/in/movie/untitled-shahid-kapoor-kriti-sanon-film\n",
            "Scraping for movie url https://www.justwatch.com/in/movie/bhakshak\n",
            "Scraping for movie url https://www.justwatch.com/in/movie/nani30\n",
            "Scraping for movie url https://www.justwatch.com/in/movie/upgraded\n",
            "Scraping for movie url https://www.justwatch.com/in/movie/saindhav\n",
            "Scraping for movie url https://www.justwatch.com/in/movie/article-370\n",
            "Scraping for movie url https://www.justwatch.com/in/movie/killers-of-the-flower-moon\n",
            "Scraping for movie url https://www.justwatch.com/in/movie/society-of-the-snow\n",
            "Scraping for movie url https://www.justwatch.com/in/movie/pindam\n",
            "Scraping for movie url https://www.justwatch.com/in/movie/parking-2023\n",
            "Scraping for movie url https://www.justwatch.com/in/movie/joram\n",
            "Scraping for movie url https://www.justwatch.com/in/movie/365-days\n",
            "Scraping for movie url https://www.justwatch.com/in/movie/past-lives\n",
            "Scraping for movie url https://www.justwatch.com/in/movie/mission-impossible-7\n",
            "Scraping for movie url https://www.justwatch.com/in/movie/warning-2\n",
            "Scraping for movie url https://www.justwatch.com/in/movie/interstellar\n",
            "Scraping for movie url https://www.justwatch.com/in/movie/barbie-2023\n",
            "Scraping for movie url https://www.justwatch.com/in/movie/singapore-saloon\n",
            "Scraping for movie url https://www.justwatch.com/in/movie/tiger-3\n",
            "Scraping for movie url https://www.justwatch.com/in/movie/harry-potter-and-the-philosophers-stone\n",
            "Scraping for movie url https://www.justwatch.com/in/movie/blue-beetle\n",
            "Scraping for movie url https://www.justwatch.com/in/movie/saba-nayagan\n",
            "Scraping for movie url https://www.justwatch.com/in/movie/the-wolf-of-wall-street\n",
            "Scraping for movie url https://www.justwatch.com/in/movie/uri-the-surgical-strike\n",
            "Scraping for movie url https://www.justwatch.com/in/movie/777-charlie\n",
            "Scraping for movie url https://www.justwatch.com/in/movie/leo-2023\n",
            "Scraping for movie url https://www.justwatch.com/in/movie/sound-of-freedom\n",
            "Scraping for movie url https://www.justwatch.com/in/movie/zara-hatke-zara-bach-ke\n",
            "Scraping for movie url https://www.justwatch.com/in/movie/untitled-cord-jefferson-film\n",
            "Scraping for movie url https://www.justwatch.com/in/movie/guthlee-ladoo\n",
            "Scraping for movie url https://www.justwatch.com/in/movie/yaariyan-2\n",
            "Scraping for movie url https://www.justwatch.com/in/movie/the-holdovers\n",
            "Scraping for movie url https://www.justwatch.com/in/movie/saltburn\n",
            "Scraping for movie url https://www.justwatch.com/in/movie/talk-to-me-2022\n",
            "Scraping for movie url https://www.justwatch.com/in/movie/abraham-ozler\n",
            "Scraping for movie url https://www.justwatch.com/in/movie/malaikottai-vaaliban\n",
            "Scraping for movie url https://www.justwatch.com/in/movie/k-g-f-chapter-1\n",
            "Scraping for movie url https://www.justwatch.com/in/movie/merry-christmas-2024\n",
            "Scraping for movie url https://www.justwatch.com/in/movie/dada-2023\n",
            "Scraping for movie url https://www.justwatch.com/in/movie/crakk-jeetegaa-toh-jiyegaa\n",
            "Scraping for movie url https://www.justwatch.com/in/movie/wonka\n",
            "Scraping for movie url https://www.justwatch.com/in/movie/naa-saami-ranga\n",
            "Scraping for movie url https://www.justwatch.com/in/movie/deadpool\n",
            "Scraping for movie url https://www.justwatch.com/in/movie/orion-and-the-dark\n",
            "Scraping for movie url https://www.justwatch.com/in/movie/aatmapamphlet\n",
            "Scraping for movie url https://www.justwatch.com/in/movie/the-kid-who-would-be-king\n",
            "Scraping for movie url https://www.justwatch.com/in/movie/kannagi\n",
            "Scraping for movie url https://www.justwatch.com/in/movie/inglourious-basterds\n",
            "Scraping for movie url https://www.justwatch.com/in/movie/route-no-17\n",
            "Scraping for movie url https://www.justwatch.com/in/movie/fast-x\n",
            "Scraping for movie url https://www.justwatch.com/in/movie/the-flash\n",
            "Scraping for movie url https://www.justwatch.com/in/movie/kaathal-the-core\n",
            "Scraping for movie url https://www.justwatch.com/in/movie/bramayugam\n",
            "Scraping for movie url https://www.justwatch.com/in/movie/tiger-nageswara-rao\n",
            "Scraping for movie url https://www.justwatch.com/in/movie/the-family-plan\n",
            "Scraping for movie url https://www.justwatch.com/in/movie/godzilla-minus-one\n",
            "Scraping for movie url https://www.justwatch.com/in/movie/gadar-2\n",
            "Scraping for movie url https://www.justwatch.com/in/movie/20-000-species-of-bees\n",
            "Scraping for movie url https://www.justwatch.com/in/movie/the-passenger-2023\n",
            "Scraping for movie url https://www.justwatch.com/in/movie/rocky-aur-rani-ki-prem-kahani\n",
            "Scraping for movie url https://www.justwatch.com/in/movie/tumbbad\n",
            "Scraping for movie url https://www.justwatch.com/in/movie/premalu\n",
            "Scraping for movie url https://www.justwatch.com/in/movie/rockstar\n",
            "Scraping for movie url https://www.justwatch.com/in/movie/naadu\n",
            "Scraping for movie url https://www.justwatch.com/in/movie/one-day\n",
            "Scraping for movie url https://www.justwatch.com/in/movie/the-zone-of-interest\n",
            "Scraping for movie url https://www.justwatch.com/in/movie/pushpa\n",
            "Scraping for movie url https://www.justwatch.com/in/movie/the-nun-ii\n",
            "Scraping for movie url https://www.justwatch.com/in/movie/ganapath\n",
            "Scraping for movie url https://www.justwatch.com/in/movie/devil-2023\n",
            "Scraping for movie url https://www.justwatch.com/in/movie/blade-runner-2049\n",
            "Scraping for movie url https://www.justwatch.com/in/movie/badland-hunters\n",
            "Scraping for movie url https://www.justwatch.com/in/movie/fifty-shades-of-grey\n",
            "Scraping for movie url https://www.justwatch.com/in/movie/allied\n",
            "Scraping for movie url https://www.justwatch.com/in/movie/mangalavaram\n",
            "Scraping for movie url https://www.justwatch.com/in/movie/lift-0\n",
            "Scraping for movie url https://www.justwatch.com/in/movie/the-gangster-the-cop-the-devil\n",
            "CPU times: total: 6.78 s\n",
            "Wall time: 2min 53s\n"
          ]
        }
      ],
      "source": [
        "%%time\n",
        "# making the empty list for all the details\n",
        "movie_title_list = []\n",
        "release_year_list = []\n",
        "genres_list = []\n",
        "imdb_rating_list = []\n",
        "runtime_list = []\n",
        "age_rating_list = []\n",
        "production_countries_list = []\n",
        "streaming_service_list = []\n",
        "\n",
        "#iterating the movie url from the url list.\n",
        "for movie_url in movie_url_list:\n",
        "  print(f\"Scraping for movie url {movie_url}\")\n",
        "  # Requesting the response from each movie url\n",
        "  response = requests.get(movie_url)\n",
        "  #exception handling for success and not found\n",
        "  if response.status_code==200:\n",
        "    url_soup = BeautifulSoup(response.text, 'html.parser')\n",
        "\n",
        "    #Extract movie title\n",
        "    title_tag = url_soup.find('div', class_='title-block' )\n",
        "    if title_tag:\n",
        "      movie_title = title_tag.find('h1').text.strip()\n",
        "      movie_title_list.append(movie_title)\n",
        "    else:\n",
        "      movie_title_list.append(None)\n",
        "\n",
        "    #Extract Release Year\n",
        "    year_tag = url_soup.find('span', class_='text-muted')\n",
        "    if year_tag:\n",
        "      release_year = re.sub(r\"\\(|\\)\", \"\", year_tag.text.strip())\n",
        "      release_year_list.append(release_year)\n",
        "    else:\n",
        "      release_year_list.append(None)\n",
        "\n",
        "    #Extract Genres.\n",
        "    genre_tag = url_soup.find('h3', text='Genres')\n",
        "    if genre_tag:\n",
        "      genres = genre_tag.find_next_sibling('div', class_='detail-infos__value').text.strip()\n",
        "      genres_list.append(genres)\n",
        "    else:\n",
        "      genres_list.append(None)\n",
        "\n",
        "    #Extract imdb rating\n",
        "    rating_tag = url_soup.find('img', alt='IMDB')\n",
        "    if rating_tag:\n",
        "      imdb_rating = rating_tag.find_next_sibling('span').text.strip()\n",
        "      imdb_rating_list.append(imdb_rating[:3])\n",
        "    else:\n",
        "      imdb_rating_list.append(None)\n",
        "\n",
        "    # Extract runtime\n",
        "    runtime_tag = url_soup.find('h3', text='Runtime')\n",
        "    if runtime_tag:\n",
        "      runtime = runtime_tag.find_next_sibling('div', class_='detail-infos__value').text.strip()\n",
        "      runtime_list.append(runtime)\n",
        "    else:\n",
        "      runtime_list.append(None)\n",
        "\n",
        "    #Extract age rating\n",
        "    age_rating_tag = url_soup.find('h3', text = 'Age rating')\n",
        "    if age_rating_tag:\n",
        "      age_rating = age_rating_tag.find_next_sibling('div', class_='detail-infos__value').text.strip()\n",
        "      age_rating_list.append(age_rating)\n",
        "    else:\n",
        "      age_rating_list.append(None)\n",
        "\n",
        "    #Extract Production countries\n",
        "    production_tag = url_soup.find('h3', text=' Production country ')\n",
        "    if production_tag:\n",
        "      prod_countries = production_tag.find_next_sibling('div', class_='detail-infos__value').text.strip()\n",
        "      production_countries_list.append(prod_countries)\n",
        "    else:\n",
        "      production_countries_list.append(None)\n",
        "\n",
        "    #Extract streaming service\n",
        "    streaming = url_soup.find('picture', class_='picture-wrapper')\n",
        "    if streaming:\n",
        "      strm_service = streaming.find('img')['alt']\n",
        "      streaming_service_list.append(strm_service)\n",
        "    else:\n",
        "      streaming_service_list.append(None)\n",
        "\n",
        "  else:\n",
        "    print(f\"Scraping Fail for Movie url {movie_url}\")"
      ]
    },
    {
      "cell_type": "markdown",
      "metadata": {
        "id": "Dam_ehZgvgmw"
      },
      "source": [
        "## **Scrapping Movie Title**"
      ]
    },
    {
      "cell_type": "code",
      "execution_count": null,
      "metadata": {
        "id": "1FGDXRKQxd1s",
        "outputId": "a60e38bd-0f34-4208-92b7-c2e1ef34beb9"
      },
      "outputs": [
        {
          "data": {
            "text/plain": [
              "['Animal',\n",
              " 'Salaar',\n",
              " 'Dunki',\n",
              " '12th Fail',\n",
              " 'Sam Bahadur',\n",
              " 'Oppenheimer',\n",
              " 'The Kerala Story',\n",
              " 'Anyone But You',\n",
              " 'Guntur Kaaram',\n",
              " 'Dune',\n",
              " 'Aquaman and the Lost Kingdom',\n",
              " 'Captain Miller',\n",
              " 'Ayalaan',\n",
              " 'Hanu-Man',\n",
              " 'Fighter',\n",
              " 'The Beekeeper',\n",
              " 'Neru',\n",
              " 'Migration',\n",
              " 'Jawan',\n",
              " 'Sapta Sagaradaache Ello: Side B',\n",
              " 'The Marvels',\n",
              " 'Poor Things',\n",
              " 'Anatomy of a Fall',\n",
              " 'Teri Baaton Mein Aisa Uljha Jiya',\n",
              " 'Bhakshak',\n",
              " 'Hi Nanna',\n",
              " 'Upgraded',\n",
              " 'Saindhav',\n",
              " 'Article 370',\n",
              " 'Killers of the Flower Moon',\n",
              " 'Society of the Snow',\n",
              " 'Pindam',\n",
              " 'Parking',\n",
              " 'Joram',\n",
              " '365 Days',\n",
              " 'Past Lives',\n",
              " 'Mission: Impossible - Dead Reckoning Part One',\n",
              " 'Warning 2',\n",
              " 'Interstellar',\n",
              " 'Barbie',\n",
              " 'Singapore Saloon',\n",
              " 'Tiger 3',\n",
              " \"Harry Potter and the Philosopher's Stone\",\n",
              " 'Blue Beetle',\n",
              " 'Saba Nayagan',\n",
              " 'The Wolf of Wall Street',\n",
              " 'Uri: The Surgical Strike',\n",
              " '777 Charlie',\n",
              " 'Leo',\n",
              " 'Sound of Freedom',\n",
              " 'Zara Hatke Zara Bachke',\n",
              " 'American Fiction',\n",
              " 'Guthlee Ladoo',\n",
              " 'Yaariyan 2',\n",
              " 'The Holdovers',\n",
              " 'Saltburn',\n",
              " 'Talk to Me',\n",
              " 'Abraham Ozler',\n",
              " 'Malaikottai Vaaliban',\n",
              " 'K.G.F: Chapter 1',\n",
              " 'Merry Christmas',\n",
              " 'Dada',\n",
              " 'Crakk: Jeetega... Toh Jiyegaa',\n",
              " 'Wonka',\n",
              " 'Naa Saami Ranga',\n",
              " 'Deadpool',\n",
              " 'Orion and the Dark',\n",
              " 'Aatmapamphlet',\n",
              " 'The Kid Who Would Be King',\n",
              " 'Kannagi',\n",
              " 'Inglourious Basterds',\n",
              " 'Route No 17',\n",
              " 'Fast X',\n",
              " 'The Flash',\n",
              " 'Kaathal – The Core',\n",
              " 'Bramayugam',\n",
              " 'Tiger Nageswara Rao',\n",
              " 'The Family Plan',\n",
              " 'Godzilla Minus One',\n",
              " 'Gadar 2',\n",
              " '20,000 Species of Bees',\n",
              " 'The Passenger',\n",
              " 'Rocky Aur Rani Kii Prem Kahaani',\n",
              " 'Tumbbad',\n",
              " 'Premalu',\n",
              " 'Rockstar',\n",
              " 'Naadu',\n",
              " 'One Day',\n",
              " 'The Zone of Interest',\n",
              " 'Pushpa: The Rise - Part 1',\n",
              " 'The Nun II',\n",
              " 'Ganapath',\n",
              " 'Devil',\n",
              " 'Blade Runner 2049',\n",
              " 'Badland Hunters',\n",
              " 'Fifty Shades of Grey',\n",
              " 'Allied',\n",
              " 'Mangalavaaram',\n",
              " 'Lift',\n",
              " 'The Gangster, the Cop, the Devil']"
            ]
          },
          "execution_count": 7,
          "metadata": {},
          "output_type": "execute_result"
        }
      ],
      "source": [
        "movie_title_list"
      ]
    },
    {
      "cell_type": "markdown",
      "metadata": {
        "id": "VEg1U1uPzGoj"
      },
      "source": [
        "## **Scrapping release Year**"
      ]
    },
    {
      "cell_type": "code",
      "execution_count": null,
      "metadata": {
        "id": "wLqLKOvP5Gmt",
        "scrolled": false,
        "outputId": "79f86f55-eff9-4768-d49e-78f3d3a744f6"
      },
      "outputs": [
        {
          "data": {
            "text/plain": [
              "['2023',\n",
              " '2023',\n",
              " '2023',\n",
              " '2023',\n",
              " '2023',\n",
              " '2023',\n",
              " '2023',\n",
              " '2023',\n",
              " '2024',\n",
              " '2021',\n",
              " '2023',\n",
              " '2024',\n",
              " '2024',\n",
              " '2024',\n",
              " '2024',\n",
              " '2024',\n",
              " '2023',\n",
              " '2023',\n",
              " '2023',\n",
              " '2023',\n",
              " '2023',\n",
              " '2023',\n",
              " '2023',\n",
              " '2024',\n",
              " '2024',\n",
              " '2023',\n",
              " '2024',\n",
              " '2024',\n",
              " '2024',\n",
              " '2023',\n",
              " '2023',\n",
              " '2023',\n",
              " '2023',\n",
              " '2023',\n",
              " '2020',\n",
              " '2023',\n",
              " '2023',\n",
              " '2024',\n",
              " '2014',\n",
              " '2023',\n",
              " '2024',\n",
              " '2023',\n",
              " '2001',\n",
              " '2023',\n",
              " '2023',\n",
              " '2013',\n",
              " '2019',\n",
              " '2022',\n",
              " '2023',\n",
              " '2023',\n",
              " '2023',\n",
              " '2023',\n",
              " '2023',\n",
              " '2023',\n",
              " '2023',\n",
              " '2023',\n",
              " '2023',\n",
              " '2024',\n",
              " '2024',\n",
              " '2018',\n",
              " '2024',\n",
              " '2023',\n",
              " '2024',\n",
              " '2023',\n",
              " '2024',\n",
              " '2016',\n",
              " '2024',\n",
              " '2023',\n",
              " '2019',\n",
              " '2023',\n",
              " '2009',\n",
              " '2023',\n",
              " '2023',\n",
              " '2023',\n",
              " '2023',\n",
              " '2024',\n",
              " '2023',\n",
              " '2023',\n",
              " '2023',\n",
              " '2023',\n",
              " '2023',\n",
              " '2023',\n",
              " '2023',\n",
              " '2018',\n",
              " '2024',\n",
              " '2011',\n",
              " '2023',\n",
              " '2011',\n",
              " '2023',\n",
              " '2021',\n",
              " '2023',\n",
              " '2023',\n",
              " '2023',\n",
              " '2017',\n",
              " '2024',\n",
              " '2015',\n",
              " '2016',\n",
              " '2023',\n",
              " '2024',\n",
              " '2019']"
            ]
          },
          "execution_count": 8,
          "metadata": {},
          "output_type": "execute_result"
        }
      ],
      "source": [
        "release_year_list"
      ]
    },
    {
      "cell_type": "code",
      "execution_count": null,
      "metadata": {
        "id": "m97vhXvgN-8J",
        "outputId": "fc6f8c72-c1e4-4711-dc6b-2bf71ab1990c"
      },
      "outputs": [
        {
          "name": "stdout",
          "output_type": "stream",
          "text": [
            "['2023', '2023', '2023', '2023', '2023', '2023', '2023', '2024', '2024', '2023', '2021', '2024', '2024', '2024', '2024', '2024', '2023', '2023', '2023', '2023', '2023', '2023', '2023', '2024', '2023', '2024', '2024', '2024', '2023', '2023', '2023', '2023', '2024', '2023', '2023', '2020', '2023', '2014', '2023', '2024', '2023', '2024', '2001', '2023', '2023', '2022', '2019', '2013', '2023', '2023', '2023', '2023', '2023', '2023', '2023', '2023', '2024', '2023', '2018', '2024', '2023', '2023', '2024', '2019', '2016', '2024', '2023', '2023', '2023', '2023', '2024', '2009', '2023', '2023', '2024', '2023', 'Release Year not found', '2023', '2023', '2023', '2011', '2023', '2024', '2018', '2023', '2024', '2021', '2023', '2024', '2023', '2011', '2023', '2023', '2017', '2024', '2023', '2019', '2023', '2023', '2023']\n"
          ]
        }
      ],
      "source": [
        "# Extract release years from the Release_year list\n",
        "movie_release_years = [year[\"Release Year\"] for year in Release_year]\n",
        "\n",
        "# Display release years\n",
        "print(movie_release_years)"
      ]
    },
    {
      "cell_type": "markdown",
      "metadata": {
        "id": "aqzhL8STqaMX"
      },
      "source": [
        "## **Scrapping Genres**"
      ]
    },
    {
      "cell_type": "code",
      "execution_count": null,
      "metadata": {
        "id": "NYGVsfKjrDWr",
        "outputId": "0334a49a-19dc-449a-a781-7213f3eeb3d0"
      },
      "outputs": [
        {
          "data": {
            "text/plain": [
              "['Action & Adventure, Drama, Mystery & Thriller, Crime',\n",
              " 'Action & Adventure, Crime, Drama, Mystery & Thriller',\n",
              " 'Comedy, Drama',\n",
              " 'Drama',\n",
              " 'Drama, War & Military, History',\n",
              " 'Drama, History',\n",
              " 'Drama',\n",
              " 'Romance, Comedy',\n",
              " 'Drama, Kids & Family, Action & Adventure',\n",
              " 'Science-Fiction, Action & Adventure, Drama',\n",
              " 'Fantasy, Action & Adventure, Science-Fiction',\n",
              " 'Drama, Mystery & Thriller, Action & Adventure',\n",
              " 'Action & Adventure, Science-Fiction',\n",
              " 'Fantasy, Comedy, Action & Adventure',\n",
              " 'Action & Adventure, Mystery & Thriller, War & Military',\n",
              " 'Drama, Action & Adventure, Mystery & Thriller',\n",
              " 'Drama, Mystery & Thriller',\n",
              " 'Kids & Family, Animation, Action & Adventure, Comedy',\n",
              " 'Mystery & Thriller, Action & Adventure, Drama',\n",
              " 'Action & Adventure, Drama, Romance',\n",
              " 'Science-Fiction, Action & Adventure, Fantasy',\n",
              " 'Science-Fiction, Romance, Comedy, Drama',\n",
              " 'Crime, Mystery & Thriller, Drama',\n",
              " 'Comedy, Drama, Romance, Science-Fiction',\n",
              " 'Drama, Crime',\n",
              " 'Drama, Kids & Family, Romance',\n",
              " 'Romance, Comedy',\n",
              " 'Action & Adventure, Crime, Drama, Mystery & Thriller',\n",
              " 'Action & Adventure, Drama, Mystery & Thriller',\n",
              " 'Crime, History, Drama, Romance, Western',\n",
              " 'Drama, Mystery & Thriller, History',\n",
              " 'Horror, Mystery & Thriller',\n",
              " 'Mystery & Thriller, Drama',\n",
              " 'Drama, Action & Adventure, Crime, Mystery & Thriller',\n",
              " 'Romance, Drama, Made in Europe',\n",
              " 'Drama, Romance',\n",
              " 'Mystery & Thriller, Action & Adventure',\n",
              " 'Drama, Mystery & Thriller, Action & Adventure',\n",
              " 'Science-Fiction, Drama',\n",
              " 'Comedy, Fantasy',\n",
              " 'Comedy, Kids & Family, Drama',\n",
              " 'Action & Adventure, Mystery & Thriller',\n",
              " 'Fantasy, Kids & Family',\n",
              " 'Action & Adventure, Science-Fiction, Mystery & Thriller',\n",
              " 'Romance, Comedy',\n",
              " 'Crime, Drama, Comedy',\n",
              " 'War & Military, Action & Adventure, Drama, History',\n",
              " 'Action & Adventure, Comedy, Drama',\n",
              " 'Crime, Mystery & Thriller, Action & Adventure, Drama',\n",
              " 'Action & Adventure, Drama, Crime, History, Mystery & Thriller',\n",
              " 'Drama, Romance, Kids & Family, Comedy',\n",
              " 'Comedy, Drama',\n",
              " 'Drama',\n",
              " 'Drama, Romance, Comedy',\n",
              " 'Comedy, Drama',\n",
              " 'Mystery & Thriller, Drama, Comedy',\n",
              " 'Horror, Mystery & Thriller',\n",
              " 'Mystery & Thriller, Crime, Drama',\n",
              " 'Action & Adventure, Drama, Fantasy, Mystery & Thriller, Western',\n",
              " 'Mystery & Thriller, Action & Adventure, Crime, Drama',\n",
              " 'Drama, Mystery & Thriller',\n",
              " 'Drama, Comedy, Romance, Kids & Family',\n",
              " 'Mystery & Thriller, Action & Adventure, Sport',\n",
              " 'Comedy, Kids & Family, Fantasy',\n",
              " 'Drama, Action & Adventure',\n",
              " 'Action & Adventure, Comedy',\n",
              " 'Comedy, Kids & Family, Fantasy, Animation',\n",
              " 'Comedy, Drama, Romance',\n",
              " 'Action & Adventure, Fantasy, Kids & Family',\n",
              " 'Drama, Romance',\n",
              " 'Drama, Mystery & Thriller, War & Military',\n",
              " 'Drama, Mystery & Thriller',\n",
              " 'Action & Adventure, Crime, Mystery & Thriller',\n",
              " 'Action & Adventure, Science-Fiction, Fantasy',\n",
              " 'Drama, Crime',\n",
              " 'Horror, Mystery & Thriller, Fantasy, History',\n",
              " 'Crime, Drama, Mystery & Thriller, Action & Adventure, History',\n",
              " 'Action & Adventure, Comedy',\n",
              " 'Science-Fiction, Horror, Action & Adventure, Drama',\n",
              " 'Action & Adventure, Drama, Mystery & Thriller',\n",
              " 'Drama',\n",
              " 'Crime, Horror, Mystery & Thriller, Drama',\n",
              " 'Comedy, Drama, Kids & Family, Romance',\n",
              " 'Horror, Mystery & Thriller, Drama, Fantasy, Made in Europe',\n",
              " 'Comedy, Romance',\n",
              " 'Romance, Drama, Music & Musical',\n",
              " 'Drama',\n",
              " 'Romance, Drama',\n",
              " 'Drama, War & Military, History',\n",
              " 'Mystery & Thriller, Action & Adventure, Drama, Crime',\n",
              " 'Horror, Mystery & Thriller',\n",
              " 'Drama, Science-Fiction, Mystery & Thriller, Action & Adventure',\n",
              " 'Mystery & Thriller, Action & Adventure, Drama',\n",
              " 'Drama, Action & Adventure, Science-Fiction, Mystery & Thriller',\n",
              " 'Science-Fiction, Action & Adventure, Drama, Mystery & Thriller',\n",
              " 'Drama, Romance, Mystery & Thriller',\n",
              " 'Action & Adventure, Drama, War & Military, Romance, Mystery & Thriller',\n",
              " 'Action & Adventure, Horror, Mystery & Thriller',\n",
              " 'Action & Adventure, Comedy, Crime, Drama, Mystery & Thriller',\n",
              " 'Mystery & Thriller, Crime, Action & Adventure']"
            ]
          },
          "execution_count": 9,
          "metadata": {},
          "output_type": "execute_result"
        }
      ],
      "source": [
        "genres_list"
      ]
    },
    {
      "cell_type": "markdown",
      "metadata": {
        "id": "UOof6-0xFuf6"
      },
      "source": [
        "## **Scrapping IMBD Rating**"
      ]
    },
    {
      "cell_type": "code",
      "execution_count": null,
      "metadata": {
        "id": "gW467MLx6aCH",
        "scrolled": false,
        "outputId": "8b555c7a-d664-4e62-aa69-590d0d54a211"
      },
      "outputs": [
        {
          "data": {
            "text/plain": [
              "['6.3',\n",
              " '6.5',\n",
              " '6.8',\n",
              " '9.1',\n",
              " '7.8',\n",
              " '8.4',\n",
              " '7.1',\n",
              " '6.3',\n",
              " '5.4',\n",
              " '8.0',\n",
              " '5.7',\n",
              " '6.7',\n",
              " '6.1',\n",
              " '8.4',\n",
              " '7.0',\n",
              " '6.4',\n",
              " '7.6',\n",
              " '6.7',\n",
              " '7.0',\n",
              " '8.1',\n",
              " '5.6',\n",
              " '8.3',\n",
              " '7.8',\n",
              " '7.0',\n",
              " '7.2',\n",
              " '8.2',\n",
              " '6.1',\n",
              " '5.0',\n",
              " '8.7',\n",
              " '7.7',\n",
              " '7.8',\n",
              " '6.9',\n",
              " '7.9',\n",
              " '6.7',\n",
              " '3.3',\n",
              " '7.9',\n",
              " '7.7',\n",
              " '7.5',\n",
              " '8.7',\n",
              " '6.9',\n",
              " '6.4',\n",
              " '5.8',\n",
              " '7.6',\n",
              " '6.0',\n",
              " '6.8',\n",
              " '8.2',\n",
              " '8.2',\n",
              " '8.7',\n",
              " '7.2',\n",
              " '7.7',\n",
              " '6.7',\n",
              " '7.6',\n",
              " '7.7',\n",
              " '5.7',\n",
              " '8.0',\n",
              " '7.0',\n",
              " '7.1',\n",
              " '7.0',\n",
              " '6.6',\n",
              " '8.2',\n",
              " '7.7',\n",
              " '8.1',\n",
              " '6.5',\n",
              " '7.1',\n",
              " '4.5',\n",
              " '8.0',\n",
              " '6.4',\n",
              " '7.9',\n",
              " '6.1',\n",
              " '6.8',\n",
              " '8.4',\n",
              " '6.7',\n",
              " '5.8',\n",
              " '6.7',\n",
              " '7.6',\n",
              " '8.5',\n",
              " '6.1',\n",
              " '6.3',\n",
              " '8.3',\n",
              " '5.2',\n",
              " '7.0',\n",
              " '6.4',\n",
              " '6.5',\n",
              " '8.2',\n",
              " '8.3',\n",
              " '7.7',\n",
              " '8.7',\n",
              " '7.0',\n",
              " None,\n",
              " '7.6',\n",
              " '5.6',\n",
              " '3.3',\n",
              " '6.6',\n",
              " '8.0',\n",
              " '5.9',\n",
              " '4.2',\n",
              " '7.1',\n",
              " '6.7',\n",
              " '5.5',\n",
              " '6.9']"
            ]
          },
          "execution_count": 10,
          "metadata": {},
          "output_type": "execute_result"
        }
      ],
      "source": [
        "imdb_rating_list"
      ]
    },
    {
      "cell_type": "markdown",
      "metadata": {
        "id": "8CHiu0A5RAuM"
      },
      "source": [
        "## **Scrapping Runtime/Duration**"
      ]
    },
    {
      "cell_type": "code",
      "execution_count": null,
      "metadata": {
        "id": "si_yaGO8OTBo",
        "outputId": "0da9ba10-37bf-4639-91f5-c9507910741d"
      },
      "outputs": [
        {
          "data": {
            "text/plain": [
              "['3h 21min',\n",
              " '2h 55min',\n",
              " '2h 40min',\n",
              " '2h 26min',\n",
              " '2h 30min',\n",
              " '3h 1min',\n",
              " '2h 18min',\n",
              " '1h 43min',\n",
              " '2h 39min',\n",
              " '2h 35min',\n",
              " '2h 4min',\n",
              " '2h 37min',\n",
              " '2h 35min',\n",
              " '2h 39min',\n",
              " '2h 47min',\n",
              " '1h 45min',\n",
              " '2h 30min',\n",
              " '1h 23min',\n",
              " '2h 49min',\n",
              " '2h 28min',\n",
              " '1h 45min',\n",
              " '2h 21min',\n",
              " '2h 32min',\n",
              " '2h 21min',\n",
              " '2h 14min',\n",
              " '2h 35min',\n",
              " '1h 45min',\n",
              " '2h 18min',\n",
              " '2h 38min',\n",
              " '3h 26min',\n",
              " '2h 24min',\n",
              " '2h 38min',\n",
              " '2h 7min',\n",
              " '1h 57min',\n",
              " '1h 54min',\n",
              " '1h 46min',\n",
              " '2h 44min',\n",
              " '2h 5min',\n",
              " '2h 49min',\n",
              " '1h 54min',\n",
              " '2h 17min',\n",
              " '2h 35min',\n",
              " '2h 32min',\n",
              " '2h 8min',\n",
              " '2h 35min',\n",
              " '3h 0min',\n",
              " '2h 18min',\n",
              " '2h 46min',\n",
              " '2h 43min',\n",
              " '2h 11min',\n",
              " '2h 20min',\n",
              " '1h 57min',\n",
              " '1h 45min',\n",
              " '2h 28min',\n",
              " '2h 13min',\n",
              " '2h 11min',\n",
              " '1h 34min',\n",
              " '2h 23min',\n",
              " '2h 34min',\n",
              " '2h 36min',\n",
              " '2h 24min',\n",
              " '2h 15min',\n",
              " '2h 34min',\n",
              " '1h 57min',\n",
              " '2h 30min',\n",
              " '1h 48min',\n",
              " '1h 33min',\n",
              " '1h 30min',\n",
              " '2h 0min',\n",
              " '2h 38min',\n",
              " '2h 33min',\n",
              " '1h 52min',\n",
              " '2h 21min',\n",
              " '2h 24min',\n",
              " '1h 52min',\n",
              " '2h 19min',\n",
              " '2h 52min',\n",
              " '1h 59min',\n",
              " '2h 5min',\n",
              " '2h 48min',\n",
              " '2h 8min',\n",
              " '1h 38min',\n",
              " '2h 48min',\n",
              " '1h 44min',\n",
              " '2h 36min',\n",
              " '2h 39min',\n",
              " '2h 8min',\n",
              " '1h 47min',\n",
              " '1h 45min',\n",
              " '2h 55min',\n",
              " '1h 50min',\n",
              " '2h 13min',\n",
              " '2h 24min',\n",
              " '2h 44min',\n",
              " '1h 47min',\n",
              " '2h 5min',\n",
              " '2h 4min',\n",
              " '2h 25min',\n",
              " '1h 47min',\n",
              " '1h 50min']"
            ]
          },
          "execution_count": 11,
          "metadata": {},
          "output_type": "execute_result"
        }
      ],
      "source": [
        "# Write Your Code here\n",
        "runtime_list"
      ]
    },
    {
      "cell_type": "markdown",
      "metadata": {
        "id": "edb4gsNcRJQN"
      },
      "source": [
        "## **Scrapping Age Rating**"
      ]
    },
    {
      "cell_type": "code",
      "execution_count": null,
      "metadata": {
        "id": "ZsHskhOcNAUj",
        "outputId": "e4dc9d61-f275-41a0-c2b4-00bd7e8d6aec"
      },
      "outputs": [
        {
          "data": {
            "text/plain": [
              "['A',\n",
              " 'A',\n",
              " None,\n",
              " None,\n",
              " 'UA',\n",
              " 'UA',\n",
              " 'A',\n",
              " None,\n",
              " 'UA',\n",
              " 'UA',\n",
              " None,\n",
              " 'UA',\n",
              " 'U',\n",
              " 'UA',\n",
              " 'UA',\n",
              " None,\n",
              " 'UA',\n",
              " None,\n",
              " 'UA',\n",
              " 'UA',\n",
              " None,\n",
              " 'A',\n",
              " None,\n",
              " None,\n",
              " 'A',\n",
              " 'U',\n",
              " None,\n",
              " 'UA',\n",
              " 'UA',\n",
              " 'A',\n",
              " None,\n",
              " 'UA',\n",
              " 'UA',\n",
              " 'UA',\n",
              " None,\n",
              " 'UA',\n",
              " None,\n",
              " None,\n",
              " None,\n",
              " 'UA',\n",
              " 'UA',\n",
              " None,\n",
              " 'U',\n",
              " None,\n",
              " None,\n",
              " 'A',\n",
              " 'UA',\n",
              " 'UA',\n",
              " 'UA',\n",
              " None,\n",
              " 'UA',\n",
              " None,\n",
              " 'U',\n",
              " 'UA',\n",
              " None,\n",
              " None,\n",
              " None,\n",
              " None,\n",
              " 'UA',\n",
              " 'UA',\n",
              " 'UA',\n",
              " 'U',\n",
              " None,\n",
              " 'U',\n",
              " 'UA',\n",
              " 'A',\n",
              " None,\n",
              " 'UA',\n",
              " None,\n",
              " 'UA',\n",
              " 'A',\n",
              " None,\n",
              " 'UA',\n",
              " 'A',\n",
              " 'UA',\n",
              " 'UA',\n",
              " 'UA',\n",
              " 'A',\n",
              " None,\n",
              " 'UA',\n",
              " None,\n",
              " None,\n",
              " None,\n",
              " 'A',\n",
              " 'U',\n",
              " 'UA',\n",
              " None,\n",
              " 'UA',\n",
              " None,\n",
              " 'UA',\n",
              " 'A',\n",
              " 'UA',\n",
              " None,\n",
              " 'A',\n",
              " None,\n",
              " None,\n",
              " 'A',\n",
              " None,\n",
              " None,\n",
              " None]"
            ]
          },
          "execution_count": 12,
          "metadata": {},
          "output_type": "execute_result"
        }
      ],
      "source": [
        "# Write Your Code here\n",
        "age_rating_list"
      ]
    },
    {
      "cell_type": "markdown",
      "metadata": {
        "id": "_RI5FD3CqFVV"
      },
      "source": [
        "## **Fetching Production Countries Details**"
      ]
    },
    {
      "cell_type": "code",
      "execution_count": null,
      "metadata": {
        "id": "ai6YOgZmYIcc",
        "outputId": "0f655289-14dc-47b0-b82b-e570dc3ccbce"
      },
      "outputs": [
        {
          "data": {
            "text/plain": [
              "['India',\n",
              " 'India',\n",
              " 'India',\n",
              " 'India',\n",
              " 'India',\n",
              " 'United Kingdom, United States',\n",
              " 'India',\n",
              " 'Australia, United States',\n",
              " 'India',\n",
              " 'United States',\n",
              " 'United States',\n",
              " 'India',\n",
              " 'India',\n",
              " 'India',\n",
              " 'India',\n",
              " 'United Kingdom, United States',\n",
              " 'India',\n",
              " 'Canada, France, United States',\n",
              " 'India',\n",
              " 'India',\n",
              " 'United States',\n",
              " 'Ireland, United Kingdom, United States',\n",
              " 'France',\n",
              " 'India',\n",
              " 'India',\n",
              " 'India',\n",
              " 'United Kingdom, United States',\n",
              " 'India',\n",
              " 'India',\n",
              " 'United States',\n",
              " 'Spain, United States',\n",
              " 'India',\n",
              " 'India',\n",
              " 'India',\n",
              " 'Poland',\n",
              " 'South Korea, United States',\n",
              " 'United States',\n",
              " 'India',\n",
              " 'United Kingdom, United States',\n",
              " 'United Kingdom, United States',\n",
              " 'India',\n",
              " 'India',\n",
              " 'United Kingdom, United States',\n",
              " 'United States',\n",
              " 'India',\n",
              " 'United States',\n",
              " 'India',\n",
              " 'India',\n",
              " 'India',\n",
              " 'United States',\n",
              " 'India',\n",
              " 'United States',\n",
              " 'India',\n",
              " 'India',\n",
              " 'United States',\n",
              " 'United States, United Kingdom',\n",
              " 'Australia, United Kingdom',\n",
              " 'India',\n",
              " 'India',\n",
              " 'India',\n",
              " 'India',\n",
              " 'India',\n",
              " 'India',\n",
              " 'United States, United Kingdom',\n",
              " 'India',\n",
              " 'United States',\n",
              " 'United States, France',\n",
              " 'India',\n",
              " 'United Kingdom',\n",
              " 'India',\n",
              " 'United States, France, Germany',\n",
              " 'India',\n",
              " 'United States',\n",
              " 'United States',\n",
              " 'India',\n",
              " 'India',\n",
              " 'India',\n",
              " 'United States',\n",
              " 'Japan',\n",
              " 'India',\n",
              " 'Spain',\n",
              " 'United States',\n",
              " 'India',\n",
              " 'India, Sweden',\n",
              " 'India',\n",
              " 'India',\n",
              " 'India',\n",
              " 'United States, United Kingdom',\n",
              " 'Poland, United Kingdom, United States',\n",
              " 'India',\n",
              " 'United States',\n",
              " 'India',\n",
              " 'India',\n",
              " 'Canada, United Kingdom, United States',\n",
              " 'South Korea',\n",
              " 'United States',\n",
              " 'China, United States, United Kingdom',\n",
              " 'India',\n",
              " 'United States',\n",
              " 'South Korea']"
            ]
          },
          "execution_count": 13,
          "metadata": {},
          "output_type": "execute_result"
        }
      ],
      "source": [
        "# Write Your Code here\n",
        "production_countries_list"
      ]
    },
    {
      "cell_type": "markdown",
      "metadata": {
        "id": "IrJlIsBWrO2r"
      },
      "source": [
        "## **Fetching Streaming Service Details**"
      ]
    },
    {
      "cell_type": "code",
      "execution_count": null,
      "metadata": {
        "id": "Yk72jDLZu7EZ",
        "scrolled": false,
        "outputId": "91467e17-9ac2-40b3-f084-2386ae43c656"
      },
      "outputs": [
        {
          "data": {
            "text/plain": [
              "['Netflix',\n",
              " 'Netflix',\n",
              " 'Netflix',\n",
              " 'Hotstar',\n",
              " 'Zee5',\n",
              " 'Apple TV',\n",
              " 'Zee5',\n",
              " 'Apple TV',\n",
              " 'Netflix',\n",
              " 'Apple TV',\n",
              " 'Apple TV',\n",
              " 'Amazon Prime Video',\n",
              " 'Sun Nxt',\n",
              " None,\n",
              " None,\n",
              " None,\n",
              " 'Hotstar',\n",
              " 'Apple TV',\n",
              " 'Apple TV',\n",
              " 'Amazon Prime Video',\n",
              " 'Apple TV',\n",
              " 'Apple TV',\n",
              " None,\n",
              " 'Bookmyshow',\n",
              " 'Netflix',\n",
              " 'Netflix',\n",
              " 'Amazon Prime Video',\n",
              " 'Amazon Prime Video',\n",
              " None,\n",
              " 'Apple TV Plus',\n",
              " 'Netflix',\n",
              " 'Amazon Prime Video',\n",
              " 'Hotstar',\n",
              " 'Amazon Video',\n",
              " 'Netflix',\n",
              " 'Lionsgate Play',\n",
              " 'Apple TV',\n",
              " None,\n",
              " 'Apple TV',\n",
              " 'Apple TV',\n",
              " 'Amazon Prime Video',\n",
              " 'Amazon Prime Video',\n",
              " 'Apple TV',\n",
              " 'Apple TV',\n",
              " 'Hotstar',\n",
              " 'Lionsgate Play',\n",
              " 'Zee5',\n",
              " 'Voot',\n",
              " 'Netflix',\n",
              " 'Amazon Prime Video',\n",
              " None,\n",
              " 'Amazon Prime Video',\n",
              " 'Amazon Prime Video',\n",
              " None,\n",
              " 'Bookmyshow',\n",
              " None,\n",
              " 'Apple TV',\n",
              " None,\n",
              " 'Hotstar',\n",
              " 'Hotstar',\n",
              " None,\n",
              " 'Amazon Prime Video',\n",
              " 'Bookmyshow',\n",
              " 'Apple TV',\n",
              " 'Hotstar',\n",
              " 'Apple TV',\n",
              " 'Netflix',\n",
              " 'Apple TV',\n",
              " 'Hotstar',\n",
              " 'Amazon Prime Video',\n",
              " 'Amazon Prime Video',\n",
              " 'Amazon Prime Video',\n",
              " 'Apple TV',\n",
              " 'Apple TV',\n",
              " 'Amazon Prime Video',\n",
              " 'Bookmyshow',\n",
              " 'Amazon Prime Video',\n",
              " 'Apple TV Plus',\n",
              " None,\n",
              " 'Zee5',\n",
              " None,\n",
              " 'Amazon Prime Video',\n",
              " 'Amazon Prime Video',\n",
              " None,\n",
              " 'Bookmyshow',\n",
              " 'Apple TV',\n",
              " 'Amazon Prime Video',\n",
              " 'Jio Cinema',\n",
              " None,\n",
              " 'Amazon Prime Video',\n",
              " 'Apple TV',\n",
              " None,\n",
              " 'Amazon Prime Video',\n",
              " 'Apple TV',\n",
              " 'Netflix',\n",
              " 'Netflix',\n",
              " 'Apple TV',\n",
              " 'Hotstar',\n",
              " 'Netflix',\n",
              " None]"
            ]
          },
          "execution_count": 14,
          "metadata": {},
          "output_type": "execute_result"
        }
      ],
      "source": [
        "# Write Your Code here\n",
        "streaming_service_list"
      ]
    },
    {
      "cell_type": "markdown",
      "metadata": {
        "id": "Mnh22VX_7f6K"
      },
      "source": [
        "## **Now Creating Movies DataFrame**"
      ]
    },
    {
      "cell_type": "code",
      "execution_count": null,
      "metadata": {
        "id": "i7XQUICP5oBI",
        "outputId": "87719308-812a-4d40-bd8a-bfdb64947b72"
      },
      "outputs": [
        {
          "data": {
            "text/html": [
              "<div>\n",
              "<style scoped>\n",
              "    .dataframe tbody tr th:only-of-type {\n",
              "        vertical-align: middle;\n",
              "    }\n",
              "\n",
              "    .dataframe tbody tr th {\n",
              "        vertical-align: top;\n",
              "    }\n",
              "\n",
              "    .dataframe thead th {\n",
              "        text-align: right;\n",
              "    }\n",
              "</style>\n",
              "<table border=\"1\" class=\"dataframe\">\n",
              "  <thead>\n",
              "    <tr style=\"text-align: right;\">\n",
              "      <th></th>\n",
              "      <th>Movie Title</th>\n",
              "      <th>Movie Link</th>\n",
              "      <th>Release Year</th>\n",
              "      <th>Genre</th>\n",
              "      <th>IMDB Rating</th>\n",
              "      <th>Runtime</th>\n",
              "      <th>Age Rating</th>\n",
              "      <th>Production Countries</th>\n",
              "      <th>Streaming Service</th>\n",
              "    </tr>\n",
              "  </thead>\n",
              "  <tbody>\n",
              "    <tr>\n",
              "      <th>0</th>\n",
              "      <td>Animal</td>\n",
              "      <td>https://www.justwatch.com/in/movie/animal-2022</td>\n",
              "      <td>2023</td>\n",
              "      <td>Action &amp; Adventure, Drama, Mystery &amp; Thriller,...</td>\n",
              "      <td>6.3</td>\n",
              "      <td>3h 21min</td>\n",
              "      <td>A</td>\n",
              "      <td>India</td>\n",
              "      <td>Netflix</td>\n",
              "    </tr>\n",
              "    <tr>\n",
              "      <th>1</th>\n",
              "      <td>Salaar</td>\n",
              "      <td>https://www.justwatch.com/in/movie/salaar</td>\n",
              "      <td>2023</td>\n",
              "      <td>Action &amp; Adventure, Crime, Drama, Mystery &amp; Th...</td>\n",
              "      <td>6.5</td>\n",
              "      <td>2h 55min</td>\n",
              "      <td>A</td>\n",
              "      <td>India</td>\n",
              "      <td>Netflix</td>\n",
              "    </tr>\n",
              "    <tr>\n",
              "      <th>2</th>\n",
              "      <td>Dunki</td>\n",
              "      <td>https://www.justwatch.com/in/movie/dunki</td>\n",
              "      <td>2023</td>\n",
              "      <td>Comedy, Drama</td>\n",
              "      <td>6.8</td>\n",
              "      <td>2h 40min</td>\n",
              "      <td>None</td>\n",
              "      <td>India</td>\n",
              "      <td>Netflix</td>\n",
              "    </tr>\n",
              "    <tr>\n",
              "      <th>3</th>\n",
              "      <td>12th Fail</td>\n",
              "      <td>https://www.justwatch.com/in/movie/12th-fail</td>\n",
              "      <td>2023</td>\n",
              "      <td>Drama</td>\n",
              "      <td>9.1</td>\n",
              "      <td>2h 26min</td>\n",
              "      <td>None</td>\n",
              "      <td>India</td>\n",
              "      <td>Hotstar</td>\n",
              "    </tr>\n",
              "    <tr>\n",
              "      <th>4</th>\n",
              "      <td>Sam Bahadur</td>\n",
              "      <td>https://www.justwatch.com/in/movie/sam-bahadur</td>\n",
              "      <td>2023</td>\n",
              "      <td>Drama, War &amp; Military, History</td>\n",
              "      <td>7.8</td>\n",
              "      <td>2h 30min</td>\n",
              "      <td>UA</td>\n",
              "      <td>India</td>\n",
              "      <td>Zee5</td>\n",
              "    </tr>\n",
              "    <tr>\n",
              "      <th>...</th>\n",
              "      <td>...</td>\n",
              "      <td>...</td>\n",
              "      <td>...</td>\n",
              "      <td>...</td>\n",
              "      <td>...</td>\n",
              "      <td>...</td>\n",
              "      <td>...</td>\n",
              "      <td>...</td>\n",
              "      <td>...</td>\n",
              "    </tr>\n",
              "    <tr>\n",
              "      <th>95</th>\n",
              "      <td>Fifty Shades of Grey</td>\n",
              "      <td>https://www.justwatch.com/in/movie/fifty-shade...</td>\n",
              "      <td>2015</td>\n",
              "      <td>Drama, Romance, Mystery &amp; Thriller</td>\n",
              "      <td>4.2</td>\n",
              "      <td>2h 5min</td>\n",
              "      <td>None</td>\n",
              "      <td>United States</td>\n",
              "      <td>Netflix</td>\n",
              "    </tr>\n",
              "    <tr>\n",
              "      <th>96</th>\n",
              "      <td>Allied</td>\n",
              "      <td>https://www.justwatch.com/in/movie/allied</td>\n",
              "      <td>2016</td>\n",
              "      <td>Action &amp; Adventure, Drama, War &amp; Military, Rom...</td>\n",
              "      <td>7.1</td>\n",
              "      <td>2h 4min</td>\n",
              "      <td>A</td>\n",
              "      <td>China, United States, United Kingdom</td>\n",
              "      <td>Apple TV</td>\n",
              "    </tr>\n",
              "    <tr>\n",
              "      <th>97</th>\n",
              "      <td>Mangalavaaram</td>\n",
              "      <td>https://www.justwatch.com/in/movie/mangalavaram</td>\n",
              "      <td>2023</td>\n",
              "      <td>Action &amp; Adventure, Horror, Mystery &amp; Thriller</td>\n",
              "      <td>6.7</td>\n",
              "      <td>2h 25min</td>\n",
              "      <td>None</td>\n",
              "      <td>India</td>\n",
              "      <td>Hotstar</td>\n",
              "    </tr>\n",
              "    <tr>\n",
              "      <th>98</th>\n",
              "      <td>Lift</td>\n",
              "      <td>https://www.justwatch.com/in/movie/lift-0</td>\n",
              "      <td>2024</td>\n",
              "      <td>Action &amp; Adventure, Comedy, Crime, Drama, Myst...</td>\n",
              "      <td>5.5</td>\n",
              "      <td>1h 47min</td>\n",
              "      <td>None</td>\n",
              "      <td>United States</td>\n",
              "      <td>Netflix</td>\n",
              "    </tr>\n",
              "    <tr>\n",
              "      <th>99</th>\n",
              "      <td>The Gangster, the Cop, the Devil</td>\n",
              "      <td>https://www.justwatch.com/in/movie/the-gangste...</td>\n",
              "      <td>2019</td>\n",
              "      <td>Mystery &amp; Thriller, Crime, Action &amp; Adventure</td>\n",
              "      <td>6.9</td>\n",
              "      <td>1h 50min</td>\n",
              "      <td>None</td>\n",
              "      <td>South Korea</td>\n",
              "      <td>None</td>\n",
              "    </tr>\n",
              "  </tbody>\n",
              "</table>\n",
              "<p>100 rows × 9 columns</p>\n",
              "</div>"
            ],
            "text/plain": [
              "                         Movie Title  \\\n",
              "0                             Animal   \n",
              "1                             Salaar   \n",
              "2                              Dunki   \n",
              "3                          12th Fail   \n",
              "4                        Sam Bahadur   \n",
              "..                               ...   \n",
              "95              Fifty Shades of Grey   \n",
              "96                            Allied   \n",
              "97                     Mangalavaaram   \n",
              "98                              Lift   \n",
              "99  The Gangster, the Cop, the Devil   \n",
              "\n",
              "                                           Movie Link Release Year  \\\n",
              "0      https://www.justwatch.com/in/movie/animal-2022         2023   \n",
              "1           https://www.justwatch.com/in/movie/salaar         2023   \n",
              "2            https://www.justwatch.com/in/movie/dunki         2023   \n",
              "3        https://www.justwatch.com/in/movie/12th-fail         2023   \n",
              "4      https://www.justwatch.com/in/movie/sam-bahadur         2023   \n",
              "..                                                ...          ...   \n",
              "95  https://www.justwatch.com/in/movie/fifty-shade...         2015   \n",
              "96          https://www.justwatch.com/in/movie/allied         2016   \n",
              "97    https://www.justwatch.com/in/movie/mangalavaram         2023   \n",
              "98          https://www.justwatch.com/in/movie/lift-0         2024   \n",
              "99  https://www.justwatch.com/in/movie/the-gangste...         2019   \n",
              "\n",
              "                                                Genre IMDB Rating   Runtime  \\\n",
              "0   Action & Adventure, Drama, Mystery & Thriller,...         6.3  3h 21min   \n",
              "1   Action & Adventure, Crime, Drama, Mystery & Th...         6.5  2h 55min   \n",
              "2                                       Comedy, Drama         6.8  2h 40min   \n",
              "3                                               Drama         9.1  2h 26min   \n",
              "4                      Drama, War & Military, History         7.8  2h 30min   \n",
              "..                                                ...         ...       ...   \n",
              "95                 Drama, Romance, Mystery & Thriller         4.2   2h 5min   \n",
              "96  Action & Adventure, Drama, War & Military, Rom...         7.1   2h 4min   \n",
              "97     Action & Adventure, Horror, Mystery & Thriller         6.7  2h 25min   \n",
              "98  Action & Adventure, Comedy, Crime, Drama, Myst...         5.5  1h 47min   \n",
              "99      Mystery & Thriller, Crime, Action & Adventure         6.9  1h 50min   \n",
              "\n",
              "   Age Rating                  Production Countries Streaming Service  \n",
              "0           A                                 India           Netflix  \n",
              "1           A                                 India           Netflix  \n",
              "2        None                                 India           Netflix  \n",
              "3        None                                 India           Hotstar  \n",
              "4          UA                                 India              Zee5  \n",
              "..        ...                                   ...               ...  \n",
              "95       None                         United States           Netflix  \n",
              "96          A  China, United States, United Kingdom          Apple TV  \n",
              "97       None                                 India           Hotstar  \n",
              "98       None                         United States           Netflix  \n",
              "99       None                           South Korea              None  \n",
              "\n",
              "[100 rows x 9 columns]"
            ]
          },
          "execution_count": 15,
          "metadata": {},
          "output_type": "execute_result"
        }
      ],
      "source": [
        "# Write Your Code here\n",
        "movies_df = pd.DataFrame()\n",
        "movies_df['Movie Title'] = movie_title_list\n",
        "movies_df['Movie Link'] = movie_url_list\n",
        "movies_df['Release Year'] = release_year_list\n",
        "movies_df['Genre'] = genres_list\n",
        "movies_df['IMDB Rating'] = imdb_rating_list\n",
        "movies_df['Runtime'] = runtime_list\n",
        "movies_df['Age Rating'] = age_rating_list\n",
        "movies_df['Production Countries'] = production_countries_list\n",
        "movies_df['Streaming Service'] = streaming_service_list\n",
        "movies_df"
      ]
    },
    {
      "cell_type": "code",
      "execution_count": null,
      "metadata": {
        "id": "wVcrORV-N-8P",
        "outputId": "bc1c0d26-09f3-4497-d9ec-735c5b77f043"
      },
      "outputs": [
        {
          "name": "stdout",
          "output_type": "stream",
          "text": [
            "<class 'pandas.core.frame.DataFrame'>\n",
            "RangeIndex: 100 entries, 0 to 99\n",
            "Data columns (total 9 columns):\n",
            " #   Column                Non-Null Count  Dtype \n",
            "---  ------                --------------  ----- \n",
            " 0   Movie Title           100 non-null    object\n",
            " 1   Movie Link            100 non-null    object\n",
            " 2   Release Year          100 non-null    object\n",
            " 3   Genre                 100 non-null    object\n",
            " 4   IMDB Rating           99 non-null     object\n",
            " 5   Runtime               100 non-null    object\n",
            " 6   Age Rating            60 non-null     object\n",
            " 7   Production Countries  100 non-null    object\n",
            " 8   Streaming Service     83 non-null     object\n",
            "dtypes: object(9)\n",
            "memory usage: 7.2+ KB\n"
          ]
        }
      ],
      "source": [
        "movies_df.info()"
      ]
    },
    {
      "cell_type": "markdown",
      "metadata": {
        "id": "LYQ5acWzJRZr"
      },
      "source": [
        "## **Scraping TV  Show Data**"
      ]
    },
    {
      "cell_type": "code",
      "execution_count": null,
      "metadata": {
        "id": "Xic8FWfwI6AT",
        "scrolled": false
      },
      "outputs": [],
      "source": [
        "#importing the concurrency\n",
        "from concurrent.futures import ThreadPoolExecutor"
      ]
    },
    {
      "cell_type": "code",
      "execution_count": null,
      "metadata": {
        "id": "5V0tX0nVN-8Q"
      },
      "outputs": [],
      "source": [
        "# Specifying the URL from which tv show related data will be fetched\n",
        "tv_url='https://www.justwatch.com/in/tv-shows?release_year_from=2000'\n",
        "# Sending an HTTP GET request to the URL\n",
        "page=requests.get(tv_url)\n",
        "# Parsing the HTML content using BeautifulSoup with the 'html.parser'\n",
        "soup=BeautifulSoup(page.text,'html.parser')\n",
        "# Printing the prettified HTML content\n",
        "# print(soup.prettify())"
      ]
    },
    {
      "cell_type": "code",
      "execution_count": null,
      "metadata": {
        "id": "6NsPEwmwN-8Q"
      },
      "outputs": [],
      "source": [
        "tv_info = soup.find_all('div', class_='title-list-grid__item')"
      ]
    },
    {
      "cell_type": "markdown",
      "metadata": {
        "id": "ev-VUSNvJ-fJ"
      },
      "source": [
        "## **Fetching Tv shows Url details**"
      ]
    },
    {
      "cell_type": "code",
      "execution_count": null,
      "metadata": {
        "id": "eMlwT4I-8gGh",
        "outputId": "689ebfe9-5c2c-4023-ed72-c032d4b53230"
      },
      "outputs": [
        {
          "data": {
            "text/plain": [
              "['https://www.justwatch.com/in/tv-show/panchayat',\n",
              " 'https://www.justwatch.com/in/tv-show/game-of-thrones',\n",
              " 'https://www.justwatch.com/in/tv-show/mirzapur',\n",
              " 'https://www.justwatch.com/in/tv-show/true-detective',\n",
              " 'https://www.justwatch.com/in/tv-show/solo-leveling-2024',\n",
              " 'https://www.justwatch.com/in/tv-show/indian-police-force',\n",
              " 'https://www.justwatch.com/in/tv-show/death-and-other-details',\n",
              " 'https://www.justwatch.com/in/tv-show/aarya',\n",
              " 'https://www.justwatch.com/in/tv-show/one-day',\n",
              " 'https://www.justwatch.com/in/tv-show/mr-and-mrs-smith',\n",
              " 'https://www.justwatch.com/in/tv-show/bigg-boss',\n",
              " 'https://www.justwatch.com/in/tv-show/jack-reacher',\n",
              " 'https://www.justwatch.com/in/tv-show/mastram',\n",
              " 'https://www.justwatch.com/in/tv-show/halo',\n",
              " 'https://www.justwatch.com/in/tv-show/yellowstone',\n",
              " 'https://www.justwatch.com/in/tv-show/avatar-the-last-airbender',\n",
              " 'https://www.justwatch.com/in/tv-show/farzi',\n",
              " 'https://www.justwatch.com/in/tv-show/jujutsu-kaisen',\n",
              " 'https://www.justwatch.com/in/tv-show/young-sheldon',\n",
              " 'https://www.justwatch.com/in/tv-show/the-twelve',\n",
              " 'https://www.justwatch.com/in/tv-show/love-never-lies-poland',\n",
              " 'https://www.justwatch.com/in/tv-show/criminal-justice-2019',\n",
              " 'https://www.justwatch.com/in/tv-show/paperhouse',\n",
              " 'https://www.justwatch.com/in/tv-show/loki',\n",
              " 'https://www.justwatch.com/in/tv-show/poacher',\n",
              " 'https://www.justwatch.com/in/tv-show/masters-of-the-air',\n",
              " 'https://www.justwatch.com/in/tv-show/aashram',\n",
              " 'https://www.justwatch.com/in/tv-show/superman-and-lois',\n",
              " 'https://www.justwatch.com/in/tv-show/shark-tank-india',\n",
              " 'https://www.justwatch.com/in/tv-show/scam-1992',\n",
              " 'https://www.justwatch.com/in/tv-show/shogun-2024',\n",
              " 'https://www.justwatch.com/in/tv-show/the-last-of-us',\n",
              " 'https://www.justwatch.com/in/tv-show/avatar-the-last-airbender-2005',\n",
              " 'https://www.justwatch.com/in/tv-show/the-bear',\n",
              " 'https://www.justwatch.com/in/tv-show/the-freelancer',\n",
              " 'https://www.justwatch.com/in/tv-show/marry-my-husband',\n",
              " 'https://www.justwatch.com/in/tv-show/gandii-baat',\n",
              " 'https://www.justwatch.com/in/tv-show/the-legend-of-hanuman',\n",
              " 'https://www.justwatch.com/in/tv-show/mashle-magic-and-muscles',\n",
              " 'https://www.justwatch.com/in/tv-show/breaking-bad',\n",
              " 'https://www.justwatch.com/in/tv-show/spartacus',\n",
              " 'https://www.justwatch.com/in/tv-show/fargo',\n",
              " 'https://www.justwatch.com/in/tv-show/the-rookie',\n",
              " 'https://www.justwatch.com/in/tv-show/lucifer',\n",
              " 'https://www.justwatch.com/in/tv-show/euphoria',\n",
              " 'https://www.justwatch.com/in/tv-show/griselda',\n",
              " 'https://www.justwatch.com/in/tv-show/the-family-man',\n",
              " 'https://www.justwatch.com/in/tv-show/succession',\n",
              " 'https://www.justwatch.com/in/tv-show/naruto-shippuden',\n",
              " 'https://www.justwatch.com/in/tv-show/gullak',\n",
              " 'https://www.justwatch.com/in/tv-show/alexander-the-making-of-a-god',\n",
              " 'https://www.justwatch.com/in/tv-show/tokyo-vice',\n",
              " 'https://www.justwatch.com/in/tv-show/modern-family',\n",
              " 'https://www.justwatch.com/in/tv-show/ek-thi-begum',\n",
              " 'https://www.justwatch.com/in/tv-show/house',\n",
              " 'https://www.justwatch.com/in/tv-show/monarch-legacy-of-monsters',\n",
              " 'https://www.justwatch.com/in/tv-show/the-railway-men-the-untold-story-of-bhopal-1984',\n",
              " 'https://www.justwatch.com/in/tv-show/dark-desire',\n",
              " 'https://www.justwatch.com/in/tv-show/berlin',\n",
              " 'https://www.justwatch.com/in/tv-show/maharani-2021',\n",
              " 'https://www.justwatch.com/in/tv-show/percy-jackson-and-the-olympians',\n",
              " 'https://www.justwatch.com/in/tv-show/house-of-the-dragon',\n",
              " 'https://www.justwatch.com/in/tv-show/the-king-eternal-monarch',\n",
              " 'https://www.justwatch.com/in/tv-show/killer-soup',\n",
              " 'https://www.justwatch.com/in/tv-show/demon-slayer-kimetsu-no-yaiba',\n",
              " 'https://www.justwatch.com/in/tv-show/scam-2003-the-telgi-story',\n",
              " 'https://www.justwatch.com/in/tv-show/house-of-ninjas',\n",
              " 'https://www.justwatch.com/in/tv-show/ted',\n",
              " 'https://www.justwatch.com/in/tv-show/peaky-blinders',\n",
              " 'https://www.justwatch.com/in/tv-show/feud',\n",
              " 'https://www.justwatch.com/in/tv-show/one-piece-2023',\n",
              " 'https://www.justwatch.com/in/tv-show/apharan',\n",
              " 'https://www.justwatch.com/in/tv-show/better-call-saul',\n",
              " 'https://www.justwatch.com/in/tv-show/stranger-things',\n",
              " 'https://www.justwatch.com/in/tv-show/jab-mila-tu',\n",
              " 'https://www.justwatch.com/in/tv-show/my-demon',\n",
              " 'https://www.justwatch.com/in/tv-show/flames',\n",
              " 'https://www.justwatch.com/in/tv-show/expats',\n",
              " 'https://www.justwatch.com/in/tv-show/deaths-game',\n",
              " 'https://www.justwatch.com/in/tv-show/college-romance',\n",
              " 'https://www.justwatch.com/in/tv-show/taaza-khabar',\n",
              " 'https://www.justwatch.com/in/tv-show/a-killer-paradox',\n",
              " 'https://www.justwatch.com/in/tv-show/asur',\n",
              " 'https://www.justwatch.com/in/tv-show/the-walking-dead',\n",
              " 'https://www.justwatch.com/in/tv-show/curb-your-enthusiasm',\n",
              " 'https://www.justwatch.com/in/tv-show/naruto',\n",
              " 'https://www.justwatch.com/in/tv-show/the-tourist',\n",
              " 'https://www.justwatch.com/in/tv-show/the-boys',\n",
              " 'https://www.justwatch.com/in/tv-show/the-flash',\n",
              " 'https://www.justwatch.com/in/tv-show/the-witcher',\n",
              " 'https://www.justwatch.com/in/tv-show/dehati-ladke',\n",
              " 'https://www.justwatch.com/in/tv-show/the-vampire-diaries',\n",
              " 'https://www.justwatch.com/in/tv-show/his-dark-materials',\n",
              " 'https://www.justwatch.com/in/tv-show/parks-and-recreation',\n",
              " 'https://www.justwatch.com/in/tv-show/good-morning-veronica',\n",
              " 'https://www.justwatch.com/in/tv-show/the-great-indian-murder',\n",
              " 'https://www.justwatch.com/in/tv-show/shameless',\n",
              " 'https://www.justwatch.com/in/tv-show/criminal-record',\n",
              " 'https://www.justwatch.com/in/tv-show/sunflower-2021',\n",
              " 'https://www.justwatch.com/in/tv-show/obliterated']"
            ]
          },
          "execution_count": 20,
          "metadata": {},
          "output_type": "execute_result"
        }
      ],
      "source": [
        "tv_url_list = []\n",
        "for url in tv_info:\n",
        "  get_link = url.find('a')['href']\n",
        "  tv_link = 'https://www.justwatch.com' + get_link\n",
        "  tv_url_list.append(tv_link)\n",
        "\n",
        "tv_url_list"
      ]
    },
    {
      "cell_type": "markdown",
      "metadata": {
        "id": "Tu9IEGxnN-8g"
      },
      "source": [
        "## Fetching Details from URL in concurrency"
      ]
    },
    {
      "cell_type": "code",
      "execution_count": null,
      "metadata": {
        "id": "BS9jZQQLN-8h"
      },
      "outputs": [],
      "source": [
        "show_title_list = []\n",
        "show_year_list = []\n",
        "show_genre_list = []\n",
        "show_imdb_rating_list = []\n",
        "show_age_rating_list = []\n",
        "show_production_country_list = []\n",
        "show_streaming_list = []\n",
        "show_runtime_list = []"
      ]
    },
    {
      "cell_type": "code",
      "execution_count": null,
      "metadata": {
        "id": "fQMG_mqiN-8h",
        "outputId": "6c3b8467-7f76-447c-9331-e344111f5cdf"
      },
      "outputs": [
        {
          "name": "stdout",
          "output_type": "stream",
          "text": [
            "CPU times: total: 3.77 s\n",
            "Wall time: 17.9 s\n"
          ]
        }
      ],
      "source": [
        "%%time\n",
        "def scrape_show_details(tv_url):\n",
        "  try:\n",
        "    # print(f\"Scraping tv_show url {tv_url} \")\n",
        "    response = requests.get(tv_url)\n",
        "    if response.status_code == 200:\n",
        "      tv_soup = BeautifulSoup(response.text, 'html.parser')\n",
        "\n",
        "      #Extract Tv-show title\n",
        "      show_title_tag = tv_soup.find('div', class_='title-block')\n",
        "      if show_title_tag:\n",
        "        show_title = show_title_tag.find('h1').text.strip()\n",
        "\n",
        "      else:\n",
        "        show_title = None\n",
        "\n",
        "      #Extract release year\n",
        "      show_year_tag = tv_soup.find('span', class_='text-muted')\n",
        "      if show_year_tag:\n",
        "        show_year = re.sub(r\"\\(|\\)\", \"\", show_year_tag.text.strip())\n",
        "\n",
        "      else:\n",
        "        show_year = None\n",
        "\n",
        "      #Extract Show genre\n",
        "      show_genre_tag = tv_soup.find('h3', text = \"Genres\")\n",
        "      if show_genre_tag:\n",
        "        show_genre = show_genre_tag.find_next_sibling('div', class_='detail-infos__value').text.strip()\n",
        "\n",
        "      else:\n",
        "        show_genre = None\n",
        "\n",
        "      #Extract IMDB ratings\n",
        "      show_imdb_rating_tag = tv_soup.find('img', alt='IMDB')\n",
        "      if show_imdb_rating_tag:\n",
        "        show_imdb_rating = show_imdb_rating_tag.find_next_sibling('span').text.strip()\n",
        "\n",
        "      else:\n",
        "        show_imdb_rating = None\n",
        "\n",
        "      #Extract Age rating\n",
        "      show_age_rating_tag = tv_soup.find('h3', text='Age rating')\n",
        "      if show_age_rating_tag:\n",
        "        show_age_rating = show_age_rating_tag.find_next_sibling('div', class_='detail-infos__value').text.strip()\n",
        "\n",
        "      else:\n",
        "        show_age_rating =  None\n",
        "\n",
        "      #Extract show_production country\n",
        "      show_country_tag = tv_soup.find('h3', text=' Production country ')\n",
        "      if show_country_tag:\n",
        "        show_country = show_country_tag.find_next_sibling('div', class_='detail-infos__value').text.strip()\n",
        "\n",
        "      else:\n",
        "        show_country = None\n",
        "\n",
        "      #Extract streaming service\n",
        "      show_stream_tag = tv_soup.find('picture', class_='picture-wrapper')\n",
        "      if show_stream_tag:\n",
        "        show_stream = show_stream_tag.find('img')['alt']\n",
        "\n",
        "      else:\n",
        "        show_stream = None\n",
        "\n",
        "      #Extract runtime\n",
        "      show_runtime_tag = tv_soup.find('h3', text='Runtime')\n",
        "      if show_runtime_tag:\n",
        "        show_runtime = show_runtime_tag.find_next_sibling('div', class_='detail-infos__value').text.strip()\n",
        "\n",
        "      else:\n",
        "        show_runtime = None\n",
        "\n",
        "      return (show_title, show_year, show_genre, show_imdb_rating, show_age_rating, show_country, show_stream, show_runtime)\n",
        "\n",
        "    else:\n",
        "      print(f'Scraping Fail for tv-show url {tv_url}')\n",
        "      return None\n",
        "  except Exception as e:\n",
        "      print(f\"Exception occurred for {tv_url}: {e}\")\n",
        "      return None\n",
        "\n",
        "with ThreadPoolExecutor(max_workers=10) as executor:\n",
        "  results = executor.map(scrape_show_details, tv_url_list)\n",
        "  # Process the results\n",
        "  for result in results:\n",
        "       if result:\n",
        "\n",
        "           show_title_list.append(result[0])\n",
        "\n",
        "           show_year_list.append(result[1])\n",
        "           show_genre_list.append(result[2])\n",
        "           #'NoneType' object is not subscriptable\n",
        "           if result[3] is not None:\n",
        "            show_imdb_rating_list.append(result[3][0:3])\n",
        "           else:\n",
        "            show_imdb_rating_list.append(None)\n",
        "\n",
        "           show_age_rating_list.append(result[4])\n",
        "           show_production_country_list.append(result[5])\n",
        "           show_streaming_list.append(result[6])\n",
        "           show_runtime_list.append(result[7])"
      ]
    },
    {
      "cell_type": "markdown",
      "metadata": {
        "id": "1vZLzmqcKDPX"
      },
      "source": [
        "## **Fetching Tv Show Title details**"
      ]
    },
    {
      "cell_type": "code",
      "execution_count": null,
      "metadata": {
        "id": "a8Y6UF6-JLvO",
        "outputId": "de1f2733-dac5-4911-bec6-d2fb99da70d8"
      },
      "outputs": [
        {
          "data": {
            "text/plain": [
              "['Panchayat',\n",
              " 'Game of Thrones',\n",
              " 'Mirzapur',\n",
              " 'True Detective',\n",
              " 'Solo Leveling',\n",
              " 'Indian Police Force',\n",
              " 'Death and Other Details',\n",
              " 'Aarya',\n",
              " 'One Day',\n",
              " 'Mr. & Mrs. Smith',\n",
              " 'Bigg Boss',\n",
              " 'Reacher',\n",
              " 'Mastram',\n",
              " 'Halo',\n",
              " 'Yellowstone',\n",
              " 'Avatar: The Last Airbender',\n",
              " 'Farzi',\n",
              " 'Jujutsu Kaisen',\n",
              " 'Young Sheldon',\n",
              " 'The Twelve',\n",
              " 'Love Never Lies: Poland',\n",
              " 'Criminal Justice',\n",
              " 'Money Heist',\n",
              " 'Loki',\n",
              " 'Poacher',\n",
              " 'Masters of the Air',\n",
              " 'Aashram',\n",
              " 'Superman & Lois',\n",
              " 'Shark Tank India',\n",
              " 'Scam 1992',\n",
              " 'Shogun',\n",
              " 'The Last of Us',\n",
              " 'Avatar: The Last Airbender',\n",
              " 'The Bear',\n",
              " 'The Freelancer',\n",
              " 'Marry My Husband',\n",
              " 'Gandii Baat',\n",
              " 'The Legend of Hanuman',\n",
              " 'Mashle: Magic and Muscles',\n",
              " 'Breaking Bad',\n",
              " 'Spartacus',\n",
              " 'Fargo',\n",
              " 'The Rookie',\n",
              " 'Lucifer',\n",
              " 'Euphoria',\n",
              " 'Griselda',\n",
              " 'The Family Man',\n",
              " 'Succession',\n",
              " 'Naruto Shippūden',\n",
              " 'Gullak',\n",
              " 'Alexander: The Making of a God',\n",
              " 'Tokyo Vice',\n",
              " 'Modern Family',\n",
              " 'Ek Thi Begum',\n",
              " 'House',\n",
              " 'Monarch: Legacy of Monsters',\n",
              " 'The Railway Men - The Untold Story of Bhopal 1984',\n",
              " 'Dark Desire',\n",
              " 'Berlin',\n",
              " 'Maharani',\n",
              " 'Percy Jackson and the Olympians',\n",
              " 'House of the Dragon',\n",
              " 'The King: Eternal Monarch',\n",
              " 'Killer Soup',\n",
              " 'Demon Slayer: Kimetsu no Yaiba',\n",
              " 'Scam 2003: The Telgi Story',\n",
              " 'House of Ninjas',\n",
              " 'ted',\n",
              " 'Peaky Blinders',\n",
              " 'FEUD',\n",
              " 'ONE PIECE',\n",
              " 'Apharan',\n",
              " 'Better Call Saul',\n",
              " 'Stranger Things',\n",
              " 'Jab Mila Tu',\n",
              " 'My Demon',\n",
              " 'Flames',\n",
              " 'Expats',\n",
              " \"Death's Game\",\n",
              " 'College Romance',\n",
              " 'Taaza Khabar',\n",
              " 'A Killer Paradox',\n",
              " 'Asur: Welcome to Your Dark Side',\n",
              " 'The Walking Dead',\n",
              " 'Curb Your Enthusiasm',\n",
              " 'Naruto',\n",
              " 'The Tourist',\n",
              " 'The Boys',\n",
              " 'The Flash',\n",
              " 'The Witcher',\n",
              " 'Dehati Ladke',\n",
              " 'The Vampire Diaries',\n",
              " 'His Dark Materials',\n",
              " 'Parks and Recreation',\n",
              " 'Good Morning, Verônica',\n",
              " 'The Great Indian Murder',\n",
              " 'Shameless',\n",
              " 'Criminal Record',\n",
              " 'Sunflower',\n",
              " 'Obliterated']"
            ]
          },
          "execution_count": 23,
          "metadata": {},
          "output_type": "execute_result"
        }
      ],
      "source": [
        "show_title_list"
      ]
    },
    {
      "cell_type": "markdown",
      "metadata": {
        "id": "mEIt9j6RKa9B"
      },
      "source": [
        "## **Fetching Release Year**"
      ]
    },
    {
      "cell_type": "code",
      "execution_count": null,
      "metadata": {
        "id": "L0w2twxAN-8k",
        "outputId": "b38df004-f017-40e9-ed61-2521afc1f1ae"
      },
      "outputs": [
        {
          "data": {
            "text/plain": [
              "['2020',\n",
              " '2011',\n",
              " '2018',\n",
              " '2014',\n",
              " '2024',\n",
              " '2024',\n",
              " '2024',\n",
              " '2020',\n",
              " '2024',\n",
              " '2024',\n",
              " '2006',\n",
              " '2022',\n",
              " '2020',\n",
              " '2022',\n",
              " '2018',\n",
              " '2024',\n",
              " '2023',\n",
              " '2020',\n",
              " '2017',\n",
              " '2019',\n",
              " '2022',\n",
              " '2019',\n",
              " '2017',\n",
              " '2021',\n",
              " '2023',\n",
              " '2024',\n",
              " '2020',\n",
              " '2021',\n",
              " '2021',\n",
              " '2020',\n",
              " '2024',\n",
              " '2023',\n",
              " '2005',\n",
              " '2022',\n",
              " '2023',\n",
              " '2024',\n",
              " '2018',\n",
              " '2021',\n",
              " '2023',\n",
              " '2008',\n",
              " '2010',\n",
              " '2014',\n",
              " '2024',\n",
              " '2016',\n",
              " '2019',\n",
              " '2024',\n",
              " '2019',\n",
              " '2018',\n",
              " '2007',\n",
              " '2019',\n",
              " '2024',\n",
              " '2022',\n",
              " '2009',\n",
              " '2020',\n",
              " '2004',\n",
              " '2023',\n",
              " '2023',\n",
              " '2020',\n",
              " '2023',\n",
              " '2021',\n",
              " '2023',\n",
              " '2022',\n",
              " '2020',\n",
              " '2024',\n",
              " '2019',\n",
              " '2023',\n",
              " '2024',\n",
              " '2024',\n",
              " '2013',\n",
              " '2017',\n",
              " '2023',\n",
              " '2018',\n",
              " '2015',\n",
              " '2016',\n",
              " '2024',\n",
              " '2023',\n",
              " '2018',\n",
              " '2024',\n",
              " '2023',\n",
              " '2018',\n",
              " '2023',\n",
              " '2024',\n",
              " '2020',\n",
              " '2010',\n",
              " '2000',\n",
              " '2002',\n",
              " '2022',\n",
              " '2019',\n",
              " '2014',\n",
              " '2019',\n",
              " '2023',\n",
              " '2009',\n",
              " '2019',\n",
              " '2009',\n",
              " '2020',\n",
              " '2022',\n",
              " '2011',\n",
              " '2024',\n",
              " '2021',\n",
              " '2023']"
            ]
          },
          "execution_count": 24,
          "metadata": {},
          "output_type": "execute_result"
        }
      ],
      "source": [
        "show_year_list"
      ]
    },
    {
      "cell_type": "markdown",
      "metadata": {
        "id": "P96pGO9kRCLv"
      },
      "source": [
        "## **Fetching TV Show Genre Details**"
      ]
    },
    {
      "cell_type": "code",
      "execution_count": null,
      "metadata": {
        "id": "Jay8a9xgT43-",
        "outputId": "c9c649f7-5511-49d1-c2ef-03b5bd5c2be4"
      },
      "outputs": [
        {
          "data": {
            "text/plain": [
              "['Comedy, Drama',\n",
              " 'Science-Fiction, Action & Adventure, Drama, Fantasy',\n",
              " 'Drama, Crime, Action & Adventure, Mystery & Thriller',\n",
              " 'Drama, Mystery & Thriller, Crime',\n",
              " 'Animation, Action & Adventure, Fantasy, Science-Fiction',\n",
              " 'Action & Adventure, Crime',\n",
              " 'Mystery & Thriller, Drama, Crime',\n",
              " 'Crime, Drama, Mystery & Thriller, Action & Adventure',\n",
              " 'Comedy, Drama, Romance',\n",
              " 'Drama, Comedy, Action & Adventure, Mystery & Thriller, Crime',\n",
              " 'Reality TV, Kids & Family',\n",
              " 'Action & Adventure, Crime, Drama, Mystery & Thriller',\n",
              " 'Drama, Comedy, Fantasy',\n",
              " 'Action & Adventure, Science-Fiction, Mystery & Thriller, War & Military',\n",
              " 'Drama, Western',\n",
              " 'Science-Fiction, Action & Adventure, Comedy, Drama, Kids & Family, Fantasy',\n",
              " 'Crime, Drama, Mystery & Thriller',\n",
              " 'Fantasy, Mystery & Thriller, Animation, Action & Adventure, Science-Fiction',\n",
              " 'Comedy, Kids & Family',\n",
              " 'Mystery & Thriller, Drama',\n",
              " 'Reality TV',\n",
              " 'Crime, Mystery & Thriller, Drama',\n",
              " 'Mystery & Thriller, Action & Adventure, Crime, Drama, Made in Europe',\n",
              " 'Fantasy, Science-Fiction, Action & Adventure, Drama',\n",
              " 'Crime, Drama',\n",
              " 'Drama, War & Military, Mystery & Thriller, Action & Adventure',\n",
              " 'Crime, Drama, Mystery & Thriller',\n",
              " 'Science-Fiction, Drama, Romance, Action & Adventure',\n",
              " 'Reality TV',\n",
              " 'Crime, Drama, Mystery & Thriller',\n",
              " 'War & Military, Drama, History',\n",
              " 'Drama, Mystery & Thriller, Action & Adventure, Horror, Science-Fiction',\n",
              " 'Action & Adventure, Science-Fiction, Kids & Family, Fantasy, Animation',\n",
              " 'Drama, Comedy',\n",
              " 'Mystery & Thriller, Action & Adventure, Drama',\n",
              " 'Comedy, Drama, Fantasy, Romance, Science-Fiction',\n",
              " 'Crime, Drama, Mystery & Thriller',\n",
              " 'Animation, Action & Adventure, Fantasy',\n",
              " 'Comedy, Fantasy, Animation, Action & Adventure, Science-Fiction',\n",
              " 'Drama, Crime, Mystery & Thriller',\n",
              " 'Drama, Action & Adventure, Romance',\n",
              " 'Crime, Drama, Mystery & Thriller',\n",
              " 'Drama, Comedy, Action & Adventure, Crime',\n",
              " 'Crime, Science-Fiction, Fantasy, Drama',\n",
              " 'Drama',\n",
              " 'Drama, Crime',\n",
              " 'Comedy, Drama, Action & Adventure',\n",
              " 'Drama, Comedy',\n",
              " 'Science-Fiction, Animation, Action & Adventure, Comedy, Drama, Fantasy',\n",
              " 'Drama, Kids & Family, Comedy',\n",
              " 'History, Documentary, Drama',\n",
              " 'Drama, Crime, Mystery & Thriller',\n",
              " 'Drama, Romance, Comedy',\n",
              " 'Crime, Drama, Mystery & Thriller',\n",
              " 'Drama, Mystery & Thriller',\n",
              " 'Drama, Science-Fiction, Action & Adventure',\n",
              " 'Drama, Mystery & Thriller, History',\n",
              " 'Mystery & Thriller, Drama',\n",
              " 'Drama, Action & Adventure, Crime, Mystery & Thriller',\n",
              " 'Drama',\n",
              " 'Science-Fiction, Drama, Action & Adventure, Kids & Family, Fantasy',\n",
              " 'Science-Fiction, Drama, Action & Adventure, Romance, Fantasy',\n",
              " 'Science-Fiction, Drama',\n",
              " 'Comedy, Drama, Mystery & Thriller',\n",
              " 'Animation, Action & Adventure, Fantasy, Mystery & Thriller, Science-Fiction',\n",
              " 'Drama',\n",
              " 'Drama, Mystery & Thriller, Action & Adventure',\n",
              " 'Comedy',\n",
              " 'Drama, Crime',\n",
              " 'Drama',\n",
              " 'Action & Adventure, Science-Fiction, Comedy, Drama, Fantasy',\n",
              " 'Drama, Action & Adventure, Crime, Mystery & Thriller',\n",
              " 'Crime, Drama',\n",
              " 'Drama, Science-Fiction, Mystery & Thriller, Fantasy, Horror',\n",
              " 'Romance, Drama',\n",
              " 'Science-Fiction, Drama, Fantasy, Romance, Comedy',\n",
              " 'Comedy, Drama, Romance, Made in Europe',\n",
              " 'Drama',\n",
              " 'Drama, Science-Fiction, Fantasy',\n",
              " 'Comedy, Drama, Romance',\n",
              " 'Science-Fiction, Drama, Action & Adventure, Comedy, Fantasy, Mystery & Thriller',\n",
              " 'Comedy, Crime, Mystery & Thriller',\n",
              " 'Crime, Drama, Mystery & Thriller',\n",
              " 'Action & Adventure, Drama, Science-Fiction, Horror, Mystery & Thriller',\n",
              " 'Comedy',\n",
              " 'Action & Adventure, Science-Fiction, Animation, Comedy, Fantasy',\n",
              " 'Mystery & Thriller, Drama, Action & Adventure',\n",
              " 'Science-Fiction, Action & Adventure, Comedy, Crime, Drama',\n",
              " 'Science-Fiction, Action & Adventure, Drama',\n",
              " 'Action & Adventure, Science-Fiction, Drama, Fantasy',\n",
              " 'Drama',\n",
              " 'Science-Fiction, Horror, Romance, Mystery & Thriller, Drama, Fantasy',\n",
              " 'Science-Fiction, Drama, Fantasy',\n",
              " 'Comedy',\n",
              " 'Crime, Drama, Mystery & Thriller',\n",
              " 'Crime, Mystery & Thriller',\n",
              " 'Drama, Comedy',\n",
              " 'Mystery & Thriller, Crime, Drama',\n",
              " 'Comedy, Crime',\n",
              " 'Drama, Comedy, Action & Adventure']"
            ]
          },
          "execution_count": 25,
          "metadata": {},
          "output_type": "execute_result"
        }
      ],
      "source": [
        "# Write Your Code here\n",
        "show_genre_list"
      ]
    },
    {
      "cell_type": "markdown",
      "metadata": {
        "id": "hk3eSdDAXQv8"
      },
      "source": [
        "## **Fetching IMDB Rating Details**"
      ]
    },
    {
      "cell_type": "code",
      "execution_count": null,
      "metadata": {
        "id": "EmltFOQEXM2W",
        "scrolled": false,
        "outputId": "c7d31835-9c51-4e30-e1b3-179eb09aa2df"
      },
      "outputs": [
        {
          "data": {
            "text/plain": [
              "['8.9',\n",
              " '9.2',\n",
              " '8.5',\n",
              " '8.9',\n",
              " '8.5',\n",
              " '4.9',\n",
              " '6.9',\n",
              " '7.9',\n",
              " '8.2',\n",
              " '6.9',\n",
              " '3.7',\n",
              " '8.1',\n",
              " '7.1',\n",
              " '7.2',\n",
              " '8.7',\n",
              " '7.4',\n",
              " '8.4',\n",
              " '8.6',\n",
              " '7.6',\n",
              " '7.4',\n",
              " None,\n",
              " '8.1',\n",
              " '8.2',\n",
              " '8.2',\n",
              " '7.6',\n",
              " '7.9',\n",
              " '7.4',\n",
              " '7.8',\n",
              " '8.7',\n",
              " '9.3',\n",
              " '9.3',\n",
              " '8.8',\n",
              " '9.3',\n",
              " '8.6',\n",
              " '8.1',\n",
              " '7.9',\n",
              " '3.4',\n",
              " '9.2',\n",
              " '7.6',\n",
              " '9.5',\n",
              " '8.5',\n",
              " '8.9',\n",
              " '8.0',\n",
              " '8.1',\n",
              " '8.3',\n",
              " '7.2',\n",
              " '8.7',\n",
              " '8.8',\n",
              " '8.7',\n",
              " '9.1',\n",
              " '5.2',\n",
              " '8.0',\n",
              " '8.5',\n",
              " '8.6',\n",
              " '8.7',\n",
              " '7.0',\n",
              " '8.5',\n",
              " '6.5',\n",
              " '7.0',\n",
              " '7.9',\n",
              " '7.1',\n",
              " '8.4',\n",
              " None,\n",
              " '6.3',\n",
              " '8.7',\n",
              " None,\n",
              " '7.3',\n",
              " '8.0',\n",
              " '8.8',\n",
              " '8.4',\n",
              " '8.4',\n",
              " '8.3',\n",
              " '9.0',\n",
              " '8.7',\n",
              " '7.8',\n",
              " '7.7',\n",
              " '8.9',\n",
              " '6.1',\n",
              " '8.6',\n",
              " '8.3',\n",
              " '8.1',\n",
              " '7.3',\n",
              " '8.5',\n",
              " '8.1',\n",
              " '8.8',\n",
              " '8.4',\n",
              " '7.0',\n",
              " '8.7',\n",
              " '7.5',\n",
              " '8.0',\n",
              " '7.1',\n",
              " '7.7',\n",
              " '7.8',\n",
              " '8.6',\n",
              " '7.5',\n",
              " '6.8',\n",
              " '8.5',\n",
              " '7.2',\n",
              " '7.3',\n",
              " '6.8']"
            ]
          },
          "execution_count": 26,
          "metadata": {},
          "output_type": "execute_result"
        }
      ],
      "source": [
        "# Write Your Code here\n",
        "show_imdb_rating_list"
      ]
    },
    {
      "cell_type": "markdown",
      "metadata": {
        "id": "XZ9nJhmiZB_W"
      },
      "source": [
        "## **Fetching Age Rating Details**"
      ]
    },
    {
      "cell_type": "code",
      "execution_count": null,
      "metadata": {
        "id": "wR9Xo8piZA7p",
        "outputId": "4f552b64-a368-42c3-9bdb-a1f5217f4dd6"
      },
      "outputs": [
        {
          "data": {
            "text/plain": [
              "[None,\n",
              " 'U',\n",
              " None,\n",
              " 'U',\n",
              " None,\n",
              " 'A',\n",
              " None,\n",
              " None,\n",
              " None,\n",
              " None,\n",
              " None,\n",
              " 'A',\n",
              " None,\n",
              " None,\n",
              " None,\n",
              " None,\n",
              " None,\n",
              " None,\n",
              " 'U',\n",
              " None,\n",
              " None,\n",
              " None,\n",
              " None,\n",
              " None,\n",
              " None,\n",
              " 'A',\n",
              " None,\n",
              " None,\n",
              " 'U',\n",
              " None,\n",
              " None,\n",
              " 'A',\n",
              " 'U',\n",
              " None,\n",
              " None,\n",
              " None,\n",
              " 'A',\n",
              " None,\n",
              " None,\n",
              " 'U',\n",
              " None,\n",
              " None,\n",
              " None,\n",
              " 'U',\n",
              " 'A',\n",
              " None,\n",
              " None,\n",
              " 'U',\n",
              " 'U',\n",
              " None,\n",
              " None,\n",
              " 'A',\n",
              " None,\n",
              " None,\n",
              " 'U',\n",
              " None,\n",
              " None,\n",
              " None,\n",
              " None,\n",
              " 'UA',\n",
              " None,\n",
              " 'A',\n",
              " None,\n",
              " None,\n",
              " None,\n",
              " None,\n",
              " None,\n",
              " None,\n",
              " 'A',\n",
              " None,\n",
              " None,\n",
              " None,\n",
              " 'A',\n",
              " None,\n",
              " None,\n",
              " None,\n",
              " None,\n",
              " None,\n",
              " None,\n",
              " 'A',\n",
              " None,\n",
              " None,\n",
              " None,\n",
              " 'U',\n",
              " 'U',\n",
              " None,\n",
              " 'A',\n",
              " 'A',\n",
              " None,\n",
              " 'A',\n",
              " None,\n",
              " 'U',\n",
              " None,\n",
              " None,\n",
              " None,\n",
              " None,\n",
              " 'U',\n",
              " 'A',\n",
              " 'A',\n",
              " 'A']"
            ]
          },
          "execution_count": 27,
          "metadata": {},
          "output_type": "execute_result"
        }
      ],
      "source": [
        "# Write Your Code here\n",
        "show_age_rating_list"
      ]
    },
    {
      "cell_type": "markdown",
      "metadata": {
        "id": "ii49LH4tdNoN"
      },
      "source": [
        "## **Fetching Production Country details**"
      ]
    },
    {
      "cell_type": "code",
      "execution_count": null,
      "metadata": {
        "id": "xihOeyN8XXDt",
        "outputId": "89f4f165-db67-4317-c07e-d2c3dfd3e36a"
      },
      "outputs": [
        {
          "data": {
            "text/plain": [
              "['India',\n",
              " 'United States',\n",
              " 'India',\n",
              " 'United States',\n",
              " 'South Korea, Japan',\n",
              " 'India',\n",
              " 'United States',\n",
              " 'India',\n",
              " 'United Kingdom',\n",
              " 'United States',\n",
              " 'India',\n",
              " 'United States',\n",
              " 'India',\n",
              " 'United States',\n",
              " 'United States',\n",
              " 'United States',\n",
              " 'India',\n",
              " 'United States, Japan',\n",
              " 'United States',\n",
              " 'Belgium',\n",
              " 'Poland',\n",
              " 'India',\n",
              " 'Spain',\n",
              " 'United States',\n",
              " 'United States, India',\n",
              " 'United States',\n",
              " 'India',\n",
              " 'United States',\n",
              " 'India',\n",
              " 'India',\n",
              " 'United States',\n",
              " 'United States',\n",
              " 'United States',\n",
              " 'United States',\n",
              " 'India',\n",
              " 'South Korea',\n",
              " 'India',\n",
              " 'India',\n",
              " 'Japan',\n",
              " 'United States',\n",
              " 'United States',\n",
              " 'United States',\n",
              " 'United States',\n",
              " 'United States',\n",
              " 'United States',\n",
              " 'United States',\n",
              " 'India',\n",
              " 'United States',\n",
              " 'Japan',\n",
              " 'India',\n",
              " 'United Kingdom',\n",
              " 'United States',\n",
              " 'United States',\n",
              " 'India',\n",
              " 'United States',\n",
              " 'United States',\n",
              " 'India',\n",
              " 'Mexico',\n",
              " 'Spain',\n",
              " 'India',\n",
              " 'United States',\n",
              " 'United States',\n",
              " 'South Korea',\n",
              " 'India',\n",
              " 'Japan',\n",
              " 'India',\n",
              " 'Japan',\n",
              " 'United States',\n",
              " 'United Kingdom',\n",
              " 'United States',\n",
              " 'United States',\n",
              " 'India',\n",
              " 'United States',\n",
              " 'United States',\n",
              " 'India',\n",
              " 'South Korea',\n",
              " 'India',\n",
              " 'United States',\n",
              " 'South Korea',\n",
              " 'India',\n",
              " 'India',\n",
              " 'South Korea',\n",
              " 'India',\n",
              " 'United States',\n",
              " 'United States',\n",
              " 'Japan',\n",
              " 'United Kingdom',\n",
              " 'United States',\n",
              " 'United States',\n",
              " 'United States',\n",
              " 'India',\n",
              " 'United States',\n",
              " 'United Kingdom',\n",
              " 'United States',\n",
              " 'Brazil',\n",
              " 'India',\n",
              " 'United States',\n",
              " 'United Kingdom, United States',\n",
              " 'India',\n",
              " 'United States']"
            ]
          },
          "execution_count": 28,
          "metadata": {},
          "output_type": "execute_result"
        }
      ],
      "source": [
        "# Write Your Code here\n",
        "show_production_country_list"
      ]
    },
    {
      "cell_type": "markdown",
      "metadata": {
        "id": "mHZwwgiKdlQm"
      },
      "source": [
        "## **Fetching Streaming Service details**"
      ]
    },
    {
      "cell_type": "code",
      "execution_count": null,
      "metadata": {
        "id": "_MBl6Vqadrl9",
        "scrolled": false,
        "outputId": "54499f04-a7ca-43f6-89da-d47649cb93c4"
      },
      "outputs": [
        {
          "data": {
            "text/plain": [
              "['Amazon Prime Video',\n",
              " 'Jio Cinema',\n",
              " 'Amazon Prime Video',\n",
              " 'Jio Cinema',\n",
              " 'Crunchyroll',\n",
              " 'Amazon Prime Video',\n",
              " 'Hotstar',\n",
              " 'Hotstar',\n",
              " 'Netflix',\n",
              " 'Amazon Prime Video',\n",
              " 'Voot',\n",
              " 'Amazon Prime Video',\n",
              " None,\n",
              " 'Voot',\n",
              " 'Netflix',\n",
              " 'Netflix',\n",
              " 'Amazon Prime Video',\n",
              " 'Crunchyroll',\n",
              " 'Amazon Prime Video',\n",
              " 'Netflix',\n",
              " 'Netflix',\n",
              " 'Hotstar',\n",
              " 'Netflix',\n",
              " 'Hotstar',\n",
              " 'Amazon Prime Video',\n",
              " 'Apple TV Plus',\n",
              " 'MX Player',\n",
              " 'Amazon Prime Video',\n",
              " 'Sony Liv',\n",
              " 'Sony Liv',\n",
              " 'Hotstar',\n",
              " 'Jio Cinema',\n",
              " None,\n",
              " 'Hotstar',\n",
              " 'Hotstar',\n",
              " 'Amazon Prime Video',\n",
              " 'Alt Balaji',\n",
              " 'Hotstar',\n",
              " 'Crunchyroll',\n",
              " 'Netflix',\n",
              " 'Lionsgate Play',\n",
              " None,\n",
              " None,\n",
              " 'Netflix',\n",
              " 'Jio Cinema',\n",
              " 'Netflix',\n",
              " 'Amazon Prime Video',\n",
              " 'Jio Cinema',\n",
              " 'Crunchyroll',\n",
              " 'Sony Liv',\n",
              " 'Netflix',\n",
              " 'Lionsgate Play',\n",
              " 'Hotstar',\n",
              " 'MX Player',\n",
              " 'Netflix',\n",
              " 'Apple TV Plus',\n",
              " 'Netflix',\n",
              " 'Netflix',\n",
              " 'Netflix',\n",
              " 'Sony Liv',\n",
              " None,\n",
              " 'Jio Cinema',\n",
              " 'Netflix',\n",
              " 'Netflix',\n",
              " 'Crunchyroll',\n",
              " 'Sony Liv',\n",
              " 'Netflix',\n",
              " None,\n",
              " 'Netflix',\n",
              " 'Hotstar',\n",
              " 'Netflix',\n",
              " 'Voot',\n",
              " 'Netflix',\n",
              " 'Netflix',\n",
              " 'Jio Cinema',\n",
              " 'Netflix',\n",
              " 'Amazon Prime Video',\n",
              " 'Amazon Prime Video',\n",
              " 'Amazon Prime Video',\n",
              " 'Sony Liv',\n",
              " 'Hotstar',\n",
              " 'Netflix',\n",
              " 'Jio Cinema',\n",
              " 'Netflix',\n",
              " 'Jio Cinema',\n",
              " 'Netflix',\n",
              " 'Lionsgate Play',\n",
              " 'Amazon Prime Video',\n",
              " None,\n",
              " 'Netflix',\n",
              " 'Amazon miniTV',\n",
              " 'Netflix',\n",
              " 'Jio Cinema',\n",
              " 'Jio Cinema',\n",
              " 'Netflix',\n",
              " 'Hotstar',\n",
              " 'Netflix',\n",
              " 'Apple TV Plus',\n",
              " 'VI movies and tv',\n",
              " 'Netflix']"
            ]
          },
          "execution_count": 29,
          "metadata": {},
          "output_type": "execute_result"
        }
      ],
      "source": [
        "# Write Your Code here\n",
        "show_streaming_list"
      ]
    },
    {
      "cell_type": "markdown",
      "metadata": {
        "id": "uUOtDJv9gM4a"
      },
      "source": [
        "## **Fetching Duration Details**"
      ]
    },
    {
      "cell_type": "code",
      "execution_count": null,
      "metadata": {
        "id": "o4x4YY6AfoL1",
        "outputId": "7a2156af-327b-49db-adaa-6524c3375186"
      },
      "outputs": [
        {
          "data": {
            "text/plain": [
              "['33min',\n",
              " '58min',\n",
              " '50min',\n",
              " '1h 1min',\n",
              " '24min',\n",
              " '38min',\n",
              " '47min',\n",
              " '46min',\n",
              " '29min',\n",
              " '49min',\n",
              " '1h 15min',\n",
              " '48min',\n",
              " '28min',\n",
              " '52min',\n",
              " '50min',\n",
              " '54min',\n",
              " '56min',\n",
              " '23min',\n",
              " '19min',\n",
              " '54min',\n",
              " '48min',\n",
              " '50min',\n",
              " '50min',\n",
              " '49min',\n",
              " '47min',\n",
              " '53min',\n",
              " '43min',\n",
              " '42min',\n",
              " '56min',\n",
              " '52min',\n",
              " '50min',\n",
              " '58min',\n",
              " '24min',\n",
              " '33min',\n",
              " '50min',\n",
              " '1h 3min',\n",
              " '44min',\n",
              " '21min',\n",
              " '23min',\n",
              " '47min',\n",
              " '54min',\n",
              " '52min',\n",
              " '43min',\n",
              " '47min',\n",
              " '58min',\n",
              " '55min',\n",
              " '45min',\n",
              " '1h 4min',\n",
              " '23min',\n",
              " '29min',\n",
              " '39min',\n",
              " '58min',\n",
              " '21min',\n",
              " '30min',\n",
              " '44min',\n",
              " '46min',\n",
              " '59min',\n",
              " '34min',\n",
              " '48min',\n",
              " '44min',\n",
              " '39min',\n",
              " '1h 2min',\n",
              " '1h 13min',\n",
              " '51min',\n",
              " '26min',\n",
              " '44min',\n",
              " '53min',\n",
              " '36min',\n",
              " '58min',\n",
              " '52min',\n",
              " '56min',\n",
              " '24min',\n",
              " '50min',\n",
              " '1h 1min',\n",
              " '25min',\n",
              " '1h 6min',\n",
              " '31min',\n",
              " '1h 5min',\n",
              " '51min',\n",
              " '31min',\n",
              " '29min',\n",
              " '53min',\n",
              " '47min',\n",
              " '46min',\n",
              " '33min',\n",
              " '23min',\n",
              " '58min',\n",
              " '1h 1min',\n",
              " '42min',\n",
              " '57min',\n",
              " '24min',\n",
              " '42min',\n",
              " '54min',\n",
              " '22min',\n",
              " '49min',\n",
              " '45min',\n",
              " '54min',\n",
              " '48min',\n",
              " '37min',\n",
              " '51min']"
            ]
          },
          "execution_count": 30,
          "metadata": {},
          "output_type": "execute_result"
        }
      ],
      "source": [
        "# Write Your Code here\n",
        "show_runtime_list"
      ]
    },
    {
      "cell_type": "markdown",
      "metadata": {
        "id": "nD4QVPT-nfVR"
      },
      "source": [
        "## **Creating TV Show DataFrame**"
      ]
    },
    {
      "cell_type": "code",
      "execution_count": null,
      "metadata": {
        "id": "W3Lnlb-xip2U",
        "outputId": "1081c219-33be-4664-f0e7-21afe1ea03a2"
      },
      "outputs": [
        {
          "data": {
            "text/html": [
              "<div>\n",
              "<style scoped>\n",
              "    .dataframe tbody tr th:only-of-type {\n",
              "        vertical-align: middle;\n",
              "    }\n",
              "\n",
              "    .dataframe tbody tr th {\n",
              "        vertical-align: top;\n",
              "    }\n",
              "\n",
              "    .dataframe thead th {\n",
              "        text-align: right;\n",
              "    }\n",
              "</style>\n",
              "<table border=\"1\" class=\"dataframe\">\n",
              "  <thead>\n",
              "    <tr style=\"text-align: right;\">\n",
              "      <th></th>\n",
              "      <th>Show Title</th>\n",
              "      <th>TV Show Link</th>\n",
              "      <th>Release Year</th>\n",
              "      <th>Show Genre</th>\n",
              "      <th>IMDB Rating</th>\n",
              "      <th>Age Rating</th>\n",
              "      <th>Production Country</th>\n",
              "      <th>Streaming Service</th>\n",
              "      <th>Runtime</th>\n",
              "    </tr>\n",
              "  </thead>\n",
              "  <tbody>\n",
              "    <tr>\n",
              "      <th>0</th>\n",
              "      <td>Panchayat</td>\n",
              "      <td>https://www.justwatch.com/in/tv-show/panchayat</td>\n",
              "      <td>2020</td>\n",
              "      <td>Comedy, Drama</td>\n",
              "      <td>8.9</td>\n",
              "      <td>None</td>\n",
              "      <td>India</td>\n",
              "      <td>Amazon Prime Video</td>\n",
              "      <td>33min</td>\n",
              "    </tr>\n",
              "    <tr>\n",
              "      <th>1</th>\n",
              "      <td>Game of Thrones</td>\n",
              "      <td>https://www.justwatch.com/in/tv-show/game-of-t...</td>\n",
              "      <td>2011</td>\n",
              "      <td>Science-Fiction, Action &amp; Adventure, Drama, Fa...</td>\n",
              "      <td>9.2</td>\n",
              "      <td>U</td>\n",
              "      <td>United States</td>\n",
              "      <td>Jio Cinema</td>\n",
              "      <td>58min</td>\n",
              "    </tr>\n",
              "    <tr>\n",
              "      <th>2</th>\n",
              "      <td>Mirzapur</td>\n",
              "      <td>https://www.justwatch.com/in/tv-show/mirzapur</td>\n",
              "      <td>2018</td>\n",
              "      <td>Drama, Crime, Action &amp; Adventure, Mystery &amp; Th...</td>\n",
              "      <td>8.5</td>\n",
              "      <td>None</td>\n",
              "      <td>India</td>\n",
              "      <td>Amazon Prime Video</td>\n",
              "      <td>50min</td>\n",
              "    </tr>\n",
              "    <tr>\n",
              "      <th>3</th>\n",
              "      <td>True Detective</td>\n",
              "      <td>https://www.justwatch.com/in/tv-show/true-dete...</td>\n",
              "      <td>2014</td>\n",
              "      <td>Drama, Mystery &amp; Thriller, Crime</td>\n",
              "      <td>8.9</td>\n",
              "      <td>U</td>\n",
              "      <td>United States</td>\n",
              "      <td>Jio Cinema</td>\n",
              "      <td>1h 1min</td>\n",
              "    </tr>\n",
              "    <tr>\n",
              "      <th>4</th>\n",
              "      <td>Solo Leveling</td>\n",
              "      <td>https://www.justwatch.com/in/tv-show/solo-leve...</td>\n",
              "      <td>2024</td>\n",
              "      <td>Animation, Action &amp; Adventure, Fantasy, Scienc...</td>\n",
              "      <td>8.5</td>\n",
              "      <td>None</td>\n",
              "      <td>South Korea, Japan</td>\n",
              "      <td>Crunchyroll</td>\n",
              "      <td>24min</td>\n",
              "    </tr>\n",
              "    <tr>\n",
              "      <th>...</th>\n",
              "      <td>...</td>\n",
              "      <td>...</td>\n",
              "      <td>...</td>\n",
              "      <td>...</td>\n",
              "      <td>...</td>\n",
              "      <td>...</td>\n",
              "      <td>...</td>\n",
              "      <td>...</td>\n",
              "      <td>...</td>\n",
              "    </tr>\n",
              "    <tr>\n",
              "      <th>95</th>\n",
              "      <td>The Great Indian Murder</td>\n",
              "      <td>https://www.justwatch.com/in/tv-show/the-great...</td>\n",
              "      <td>2022</td>\n",
              "      <td>Crime, Mystery &amp; Thriller</td>\n",
              "      <td>6.8</td>\n",
              "      <td>None</td>\n",
              "      <td>India</td>\n",
              "      <td>Hotstar</td>\n",
              "      <td>45min</td>\n",
              "    </tr>\n",
              "    <tr>\n",
              "      <th>96</th>\n",
              "      <td>Shameless</td>\n",
              "      <td>https://www.justwatch.com/in/tv-show/shameless</td>\n",
              "      <td>2011</td>\n",
              "      <td>Drama, Comedy</td>\n",
              "      <td>8.5</td>\n",
              "      <td>U</td>\n",
              "      <td>United States</td>\n",
              "      <td>Netflix</td>\n",
              "      <td>54min</td>\n",
              "    </tr>\n",
              "    <tr>\n",
              "      <th>97</th>\n",
              "      <td>Criminal Record</td>\n",
              "      <td>https://www.justwatch.com/in/tv-show/criminal-...</td>\n",
              "      <td>2024</td>\n",
              "      <td>Mystery &amp; Thriller, Crime, Drama</td>\n",
              "      <td>7.2</td>\n",
              "      <td>A</td>\n",
              "      <td>United Kingdom, United States</td>\n",
              "      <td>Apple TV Plus</td>\n",
              "      <td>48min</td>\n",
              "    </tr>\n",
              "    <tr>\n",
              "      <th>98</th>\n",
              "      <td>Sunflower</td>\n",
              "      <td>https://www.justwatch.com/in/tv-show/sunflower...</td>\n",
              "      <td>2021</td>\n",
              "      <td>Comedy, Crime</td>\n",
              "      <td>7.3</td>\n",
              "      <td>A</td>\n",
              "      <td>India</td>\n",
              "      <td>VI movies and tv</td>\n",
              "      <td>37min</td>\n",
              "    </tr>\n",
              "    <tr>\n",
              "      <th>99</th>\n",
              "      <td>Obliterated</td>\n",
              "      <td>https://www.justwatch.com/in/tv-show/obliterated</td>\n",
              "      <td>2023</td>\n",
              "      <td>Drama, Comedy, Action &amp; Adventure</td>\n",
              "      <td>6.8</td>\n",
              "      <td>A</td>\n",
              "      <td>United States</td>\n",
              "      <td>Netflix</td>\n",
              "      <td>51min</td>\n",
              "    </tr>\n",
              "  </tbody>\n",
              "</table>\n",
              "<p>100 rows × 9 columns</p>\n",
              "</div>"
            ],
            "text/plain": [
              "                 Show Title  \\\n",
              "0                 Panchayat   \n",
              "1           Game of Thrones   \n",
              "2                  Mirzapur   \n",
              "3            True Detective   \n",
              "4             Solo Leveling   \n",
              "..                      ...   \n",
              "95  The Great Indian Murder   \n",
              "96                Shameless   \n",
              "97          Criminal Record   \n",
              "98                Sunflower   \n",
              "99              Obliterated   \n",
              "\n",
              "                                         TV Show Link Release Year  \\\n",
              "0      https://www.justwatch.com/in/tv-show/panchayat         2020   \n",
              "1   https://www.justwatch.com/in/tv-show/game-of-t...         2011   \n",
              "2       https://www.justwatch.com/in/tv-show/mirzapur         2018   \n",
              "3   https://www.justwatch.com/in/tv-show/true-dete...         2014   \n",
              "4   https://www.justwatch.com/in/tv-show/solo-leve...         2024   \n",
              "..                                                ...          ...   \n",
              "95  https://www.justwatch.com/in/tv-show/the-great...         2022   \n",
              "96     https://www.justwatch.com/in/tv-show/shameless         2011   \n",
              "97  https://www.justwatch.com/in/tv-show/criminal-...         2024   \n",
              "98  https://www.justwatch.com/in/tv-show/sunflower...         2021   \n",
              "99   https://www.justwatch.com/in/tv-show/obliterated         2023   \n",
              "\n",
              "                                           Show Genre IMDB Rating Age Rating  \\\n",
              "0                                       Comedy, Drama         8.9       None   \n",
              "1   Science-Fiction, Action & Adventure, Drama, Fa...         9.2          U   \n",
              "2   Drama, Crime, Action & Adventure, Mystery & Th...         8.5       None   \n",
              "3                    Drama, Mystery & Thriller, Crime         8.9          U   \n",
              "4   Animation, Action & Adventure, Fantasy, Scienc...         8.5       None   \n",
              "..                                                ...         ...        ...   \n",
              "95                          Crime, Mystery & Thriller         6.8       None   \n",
              "96                                      Drama, Comedy         8.5          U   \n",
              "97                   Mystery & Thriller, Crime, Drama         7.2          A   \n",
              "98                                      Comedy, Crime         7.3          A   \n",
              "99                  Drama, Comedy, Action & Adventure         6.8          A   \n",
              "\n",
              "               Production Country   Streaming Service  Runtime  \n",
              "0                           India  Amazon Prime Video    33min  \n",
              "1                   United States          Jio Cinema    58min  \n",
              "2                           India  Amazon Prime Video    50min  \n",
              "3                   United States          Jio Cinema  1h 1min  \n",
              "4              South Korea, Japan         Crunchyroll    24min  \n",
              "..                            ...                 ...      ...  \n",
              "95                          India             Hotstar    45min  \n",
              "96                  United States             Netflix    54min  \n",
              "97  United Kingdom, United States       Apple TV Plus    48min  \n",
              "98                          India    VI movies and tv    37min  \n",
              "99                  United States             Netflix    51min  \n",
              "\n",
              "[100 rows x 9 columns]"
            ]
          },
          "execution_count": 31,
          "metadata": {},
          "output_type": "execute_result"
        }
      ],
      "source": [
        "# Write Your Code here\n",
        "tv_show_df = pd.DataFrame()\n",
        "tv_show_df['Show Title'] = show_title_list\n",
        "tv_show_df['TV Show Link'] = tv_url_list\n",
        "tv_show_df['Release Year'] = show_year_list\n",
        "tv_show_df['Show Genre'] = show_genre_list\n",
        "tv_show_df['IMDB Rating'] = show_imdb_rating_list\n",
        "tv_show_df['Age Rating'] = show_age_rating_list\n",
        "tv_show_df['Production Country'] = show_production_country_list\n",
        "tv_show_df['Streaming Service'] = show_streaming_list\n",
        "tv_show_df['Runtime'] = show_runtime_list\n",
        "\n",
        "tv_show_df"
      ]
    },
    {
      "cell_type": "code",
      "execution_count": null,
      "metadata": {
        "id": "0SyVc36IN-8r",
        "outputId": "da412aee-bf2f-425c-d983-66f93b254b88"
      },
      "outputs": [
        {
          "name": "stdout",
          "output_type": "stream",
          "text": [
            "<class 'pandas.core.frame.DataFrame'>\n",
            "RangeIndex: 100 entries, 0 to 99\n",
            "Data columns (total 9 columns):\n",
            " #   Column              Non-Null Count  Dtype \n",
            "---  ------              --------------  ----- \n",
            " 0   Show Title          100 non-null    object\n",
            " 1   TV Show Link        100 non-null    object\n",
            " 2   Release Year        100 non-null    object\n",
            " 3   Show Genre          100 non-null    object\n",
            " 4   IMDB Rating         97 non-null     object\n",
            " 5   Age Rating          32 non-null     object\n",
            " 6   Production Country  100 non-null    object\n",
            " 7   Streaming Service   93 non-null     object\n",
            " 8   Runtime             100 non-null    object\n",
            "dtypes: object(9)\n",
            "memory usage: 7.2+ KB\n"
          ]
        }
      ],
      "source": [
        "tv_show_df.info()"
      ]
    },
    {
      "cell_type": "markdown",
      "metadata": {
        "id": "CyqHHKh4IDx6"
      },
      "source": [
        "## **Task 2 :- Data Filtering & Analysis**"
      ]
    },
    {
      "cell_type": "markdown",
      "metadata": {
        "id": "ly64H04vH1v9"
      },
      "source": [
        "### **For Movies**"
      ]
    },
    {
      "cell_type": "code",
      "execution_count": null,
      "metadata": {
        "id": "D7HLV8BLN-8s",
        "outputId": "151a4a41-3c8a-49f7-8588-6b42f66bd8db"
      },
      "outputs": [
        {
          "name": "stdout",
          "output_type": "stream",
          "text": [
            "<class 'pandas.core.frame.DataFrame'>\n",
            "RangeIndex: 100 entries, 0 to 99\n",
            "Data columns (total 9 columns):\n",
            " #   Column                Non-Null Count  Dtype \n",
            "---  ------                --------------  ----- \n",
            " 0   Movie Title           100 non-null    object\n",
            " 1   Movie Link            100 non-null    object\n",
            " 2   Release Year          100 non-null    object\n",
            " 3   Genre                 100 non-null    object\n",
            " 4   IMDB Rating           99 non-null     object\n",
            " 5   Runtime               100 non-null    object\n",
            " 6   Age Rating            60 non-null     object\n",
            " 7   Production Countries  100 non-null    object\n",
            " 8   Streaming Service     83 non-null     object\n",
            "dtypes: object(9)\n",
            "memory usage: 7.2+ KB\n"
          ]
        }
      ],
      "source": [
        "# Write Your Code here\n",
        "movies_df.info()"
      ]
    },
    {
      "cell_type": "code",
      "execution_count": null,
      "metadata": {
        "id": "2WVe_yMtN-8s",
        "outputId": "36c5f0f6-f0d3-477b-e7ef-73ddcda701b4"
      },
      "outputs": [
        {
          "name": "stdout",
          "output_type": "stream",
          "text": [
            "<class 'pandas.core.frame.DataFrame'>\n",
            "RangeIndex: 100 entries, 0 to 99\n",
            "Data columns (total 9 columns):\n",
            " #   Column                Non-Null Count  Dtype  \n",
            "---  ------                --------------  -----  \n",
            " 0   Movie Title           100 non-null    object \n",
            " 1   Movie Link            100 non-null    object \n",
            " 2   Release Year          100 non-null    int32  \n",
            " 3   Genre                 100 non-null    object \n",
            " 4   IMDB Rating           99 non-null     float64\n",
            " 5   Runtime               100 non-null    object \n",
            " 6   Age Rating            60 non-null     object \n",
            " 7   Production Countries  100 non-null    object \n",
            " 8   Streaming Service     83 non-null     object \n",
            "dtypes: float64(1), int32(1), object(7)\n",
            "memory usage: 6.8+ KB\n"
          ]
        }
      ],
      "source": [
        "# Changing the type of some columns.\n",
        "movies_df['Release Year'] = movies_df['Release Year'].astype(int)\n",
        "movies_df['IMDB Rating'] = movies_df['IMDB Rating'].astype(float)\n",
        "movies_df.info()"
      ]
    },
    {
      "cell_type": "code",
      "execution_count": null,
      "metadata": {
        "id": "snKcQVPbN-8t",
        "outputId": "222d2af1-14eb-4e07-bdad-b7ad1a29ed92"
      },
      "outputs": [
        {
          "data": {
            "text/plain": [
              "40"
            ]
          },
          "execution_count": 35,
          "metadata": {},
          "output_type": "execute_result"
        }
      ],
      "source": [
        "# Write Your Code here\n",
        "filtered_movie_df = movies_df[(movies_df['Release Year'] >=2022) & (movies_df['IMDB Rating'] >=7) ]\n",
        "len(filtered_movie_df)"
      ]
    },
    {
      "cell_type": "markdown",
      "metadata": {
        "id": "tgFANDs0N-8x"
      },
      "source": [
        "### **For Tv-Shows**"
      ]
    },
    {
      "cell_type": "code",
      "execution_count": null,
      "metadata": {
        "id": "yI_I_U8cN-8x",
        "outputId": "b4d9d033-fe0a-4bd2-c27b-198d16d75192"
      },
      "outputs": [
        {
          "name": "stdout",
          "output_type": "stream",
          "text": [
            "<class 'pandas.core.frame.DataFrame'>\n",
            "RangeIndex: 100 entries, 0 to 99\n",
            "Data columns (total 9 columns):\n",
            " #   Column              Non-Null Count  Dtype  \n",
            "---  ------              --------------  -----  \n",
            " 0   Show Title          100 non-null    object \n",
            " 1   TV Show Link        100 non-null    object \n",
            " 2   Release Year        100 non-null    int32  \n",
            " 3   Show Genre          100 non-null    object \n",
            " 4   IMDB Rating         97 non-null     float64\n",
            " 5   Age Rating          32 non-null     object \n",
            " 6   Production Country  100 non-null    object \n",
            " 7   Streaming Service   93 non-null     object \n",
            " 8   Runtime             100 non-null    object \n",
            "dtypes: float64(1), int32(1), object(7)\n",
            "memory usage: 6.8+ KB\n"
          ]
        }
      ],
      "source": [
        "tv_show_df.info()"
      ]
    },
    {
      "cell_type": "code",
      "execution_count": null,
      "metadata": {
        "id": "4E8UhoVzN-8x",
        "outputId": "ebe592a6-1c6a-467d-ac2d-e3c503d5332e"
      },
      "outputs": [
        {
          "name": "stdout",
          "output_type": "stream",
          "text": [
            "<class 'pandas.core.frame.DataFrame'>\n",
            "RangeIndex: 100 entries, 0 to 99\n",
            "Data columns (total 9 columns):\n",
            " #   Column              Non-Null Count  Dtype  \n",
            "---  ------              --------------  -----  \n",
            " 0   Show Title          100 non-null    object \n",
            " 1   TV Show Link        100 non-null    object \n",
            " 2   Release Year        100 non-null    int32  \n",
            " 3   Show Genre          100 non-null    object \n",
            " 4   IMDB Rating         97 non-null     float64\n",
            " 5   Age Rating          32 non-null     object \n",
            " 6   Production Country  100 non-null    object \n",
            " 7   Streaming Service   93 non-null     object \n",
            " 8   Runtime             100 non-null    object \n",
            "dtypes: float64(1), int32(1), object(7)\n",
            "memory usage: 6.8+ KB\n"
          ]
        }
      ],
      "source": [
        "# Changing the type for IMDB and Year.\n",
        "tv_show_df['Release Year'] = tv_show_df['Release Year'].astype(int)\n",
        "tv_show_df['IMDB Rating'] = tv_show_df['IMDB Rating'].astype(float)\n",
        "tv_show_df.info()"
      ]
    },
    {
      "cell_type": "code",
      "execution_count": null,
      "metadata": {
        "id": "2-nlnsBQN-8y",
        "outputId": "b2c29199-5682-434c-8e8f-665cff930ef9"
      },
      "outputs": [
        {
          "data": {
            "text/plain": [
              "33"
            ]
          },
          "execution_count": 40,
          "metadata": {},
          "output_type": "execute_result"
        }
      ],
      "source": [
        "filtered_tv_show_df = tv_show_df[(tv_show_df['Release Year'] >=2022) & (tv_show_df['IMDB Rating'] >=7) ]\n",
        "len(filtered_tv_show_df)"
      ]
    },
    {
      "cell_type": "markdown",
      "metadata": {
        "id": "0bPDbn-gPyfm"
      },
      "source": [
        "## **Calculating Mean IMDB Ratings for both Movies and Tv Shows**"
      ]
    },
    {
      "cell_type": "markdown",
      "metadata": {
        "id": "g3NgRVzLN-8y"
      },
      "source": [
        "###  For Movies"
      ]
    },
    {
      "cell_type": "code",
      "execution_count": null,
      "metadata": {
        "id": "6aGmGPOlIkk4",
        "outputId": "aa49df27-3cac-4b5e-992d-ba1178d5a38e"
      },
      "outputs": [
        {
          "name": "stdout",
          "output_type": "stream",
          "text": [
            "The Average IMDB Rating for Movies is 7.01\n"
          ]
        }
      ],
      "source": [
        "# Write Your Code here\n",
        "mean_imdb_movie = movies_df['IMDB Rating'].mean()\n",
        "avg_imdb_movie = round(mean_imdb_movie, 2)\n",
        "print(f\"The Average IMDB Rating for Movies is {avg_imdb_movie}\")"
      ]
    },
    {
      "cell_type": "markdown",
      "metadata": {
        "id": "PUF_AX7fN-8z"
      },
      "source": [
        "### For TV Shows"
      ]
    },
    {
      "cell_type": "code",
      "execution_count": null,
      "metadata": {
        "id": "XC85RLBQN-8z",
        "outputId": "98e5662f-31fa-458b-d7e9-386612a90f7b"
      },
      "outputs": [
        {
          "name": "stdout",
          "output_type": "stream",
          "text": [
            "The Average IMDB Rating for TV show is 7.92\n"
          ]
        }
      ],
      "source": [
        "mean_imdb_tv = tv_show_df['IMDB Rating'].mean()\n",
        "avg_imdb_tv = round(mean_imdb_tv, 2)\n",
        "print(f\"The Average IMDB Rating for TV show is {avg_imdb_tv}\")"
      ]
    },
    {
      "cell_type": "markdown",
      "metadata": {
        "id": "N_OroblUQG4r"
      },
      "source": [
        "## **Analyzing Top Genres**"
      ]
    },
    {
      "cell_type": "markdown",
      "metadata": {
        "id": "c1hq2EeXN-80"
      },
      "source": [
        "### For Movies"
      ]
    },
    {
      "cell_type": "code",
      "execution_count": null,
      "metadata": {
        "id": "4ljPnIn2LJLZ",
        "outputId": "828b47a6-c35b-42d1-f3cc-44f37657e1d1"
      },
      "outputs": [
        {
          "data": {
            "text/plain": [
              "Drama                         5\n",
              "Comedy, Drama                 3\n",
              "Romance, Comedy               3\n",
              "Drama, Mystery & Thriller     3\n",
              "Horror, Mystery & Thriller    3\n",
              "Name: Genre, dtype: int64"
            ]
          },
          "execution_count": 43,
          "metadata": {},
          "output_type": "execute_result"
        }
      ],
      "source": [
        "# Write Your Code here\n",
        "# Write Your Code here\n",
        "genre_count_movie = movies_df['Genre'].value_counts()\n",
        "sorted_movie_genre = genre_count_movie.sort_values(ascending=False)\n",
        "top_5_genre = sorted_movie_genre.head()\n",
        "top_5_genre"
      ]
    },
    {
      "cell_type": "code",
      "execution_count": null,
      "metadata": {
        "id": "7Nqu7MEEYa3c",
        "outputId": "ec980d92-d63b-429c-a917-9ba489cef822"
      },
      "outputs": [
        {
          "data": {
            "image/png": "[encoded data removed]",
            "text/plain": [
              "<Figure size 1000x600 with 1 Axes>"
            ]
          },
          "metadata": {},
          "output_type": "display_data"
        }
      ],
      "source": [
        "#Let's Visvalize it using word cloud\n",
        "movie_top_genre_dict = top_5_genre.to_dict()\n",
        "wordcloud = WordCloud(width=800, height=400, background_color='white').generate_from_frequencies(movie_top_genre_dict)\n",
        "\n",
        "#Display the wordcloud\n",
        "plt.figure(figsize=(10,6))\n",
        "plt.imshow(wordcloud, interpolation='bilinear')\n",
        "plt.axis('off')\n",
        "plt.show()"
      ]
    },
    {
      "cell_type": "markdown",
      "metadata": {
        "id": "veMKWqXYN-81"
      },
      "source": [
        "### For TV Shows"
      ]
    },
    {
      "cell_type": "code",
      "execution_count": null,
      "metadata": {
        "id": "r0ewz0cZN-81",
        "outputId": "512626da-4bba-494b-ec68-9e16381d4c78"
      },
      "outputs": [
        {
          "data": {
            "text/plain": [
              "Crime, Drama, Mystery & Thriller    8\n",
              "Drama                               6\n",
              "Comedy                              3\n",
              "Drama, Comedy                       3\n",
              "Comedy, Drama, Romance              2\n",
              "Name: Show Genre, dtype: int64"
            ]
          },
          "execution_count": 45,
          "metadata": {},
          "output_type": "execute_result"
        }
      ],
      "source": [
        "genre_count_tv = tv_show_df['Show Genre'].value_counts()\n",
        "sorted_tv_genre = genre_count_tv.sort_values(ascending=False)\n",
        "top_5 = sorted_tv_genre.head()\n",
        "top_5"
      ]
    },
    {
      "cell_type": "code",
      "execution_count": null,
      "metadata": {
        "id": "epbxNNoVN-81",
        "outputId": "b12ddd50-1ee9-4896-930c-a9b8514974fb"
      },
      "outputs": [
        {
          "data": {
            "image/png": "[encoded data removed]",
            "text/plain": [
              "<Figure size 1000x600 with 1 Axes>"
            ]
          },
          "metadata": {},
          "output_type": "display_data"
        }
      ],
      "source": [
        "#Let's Visvalize it using word cloud\n",
        "tv_top_genre_dict = top_5.to_dict()\n",
        "wordcloud = WordCloud(width=800, height=400, background_color='white').generate_from_frequencies(tv_top_genre_dict)\n",
        "\n",
        "#Display the wordcloud\n",
        "plt.figure(figsize=(10,6))\n",
        "plt.imshow(wordcloud, interpolation='bilinear')\n",
        "plt.axis('off')\n",
        "plt.show()"
      ]
    },
    {
      "cell_type": "markdown",
      "metadata": {
        "id": "BUPye0P0QP5I"
      },
      "source": [
        "## **Finding Predominant Streaming Service**"
      ]
    },
    {
      "cell_type": "markdown",
      "metadata": {
        "id": "Cq0RfrGXN-82"
      },
      "source": [
        "### For Movies"
      ]
    },
    {
      "cell_type": "code",
      "execution_count": null,
      "metadata": {
        "id": "cLXiCZSAO_40",
        "outputId": "31028e70-b907-45e2-f5ec-8e26894cf7b2"
      },
      "outputs": [
        {
          "data": {
            "text/plain": [
              "'Apple TV'"
            ]
          },
          "execution_count": 47,
          "metadata": {},
          "output_type": "execute_result"
        }
      ],
      "source": [
        "# Write Your Code here\n",
        "# Write Your Code here\n",
        "movie_streaming_service_count = movies_df['Streaming Service'].value_counts()\n",
        "most_common_movie_service = movie_streaming_service_count.idxmax()\n",
        "most_common_movie_service"
      ]
    },
    {
      "cell_type": "code",
      "execution_count": null,
      "metadata": {
        "id": "e0xdIO8APJYm",
        "outputId": "adbc747d-d2bb-4f72-c0a1-7f7596af7fa2"
      },
      "outputs": [
        {
          "data": {
            "image/png": "[encoded data removed]",
            "text/plain": [
              "<Figure size 1000x600 with 1 Axes>"
            ]
          },
          "metadata": {},
          "output_type": "display_data"
        }
      ],
      "source": [
        "#Let's Visvalize it using word cloud\n",
        "top_5_movie_service_dict = movie_streaming_service_count.head().to_dict()\n",
        "\n",
        "wordcloud = WordCloud(width=800, height=400, background_color='white').generate_from_frequencies(top_5_movie_service_dict)\n",
        "\n",
        "#Display the wordcloud\n",
        "plt.figure(figsize=(10,6))\n",
        "plt.imshow(wordcloud, interpolation='bilinear')\n",
        "plt.axis('off')\n",
        "plt.show()"
      ]
    },
    {
      "cell_type": "markdown",
      "metadata": {
        "id": "4vfUCiMaN-84"
      },
      "source": [
        "### For TV Shows"
      ]
    },
    {
      "cell_type": "code",
      "execution_count": null,
      "metadata": {
        "id": "C6T2Dkw3N-84",
        "outputId": "7e7eb067-7444-4103-e085-cf6fe13c13f2"
      },
      "outputs": [
        {
          "data": {
            "text/plain": [
              "'Netflix'"
            ]
          },
          "execution_count": 49,
          "metadata": {},
          "output_type": "execute_result"
        }
      ],
      "source": [
        "# Write Your Code here\n",
        "tv_streaming_service_count = tv_show_df['Streaming Service'].value_counts()\n",
        "most_common_tv_service = tv_streaming_service_count.idxmax()\n",
        "most_common_tv_service"
      ]
    },
    {
      "cell_type": "code",
      "execution_count": null,
      "metadata": {
        "id": "KXUPaSNlN-84",
        "outputId": "3dc01212-2f2c-4bee-d2a3-703a9d958d29"
      },
      "outputs": [
        {
          "data": {
            "image/png": "[encoded data removed]",
            "text/plain": [
              "<Figure size 1000x600 with 1 Axes>"
            ]
          },
          "metadata": {},
          "output_type": "display_data"
        }
      ],
      "source": [
        "top_5_tv_service_dict = tv_streaming_service_count.head().to_dict()\n",
        "\n",
        "wordcloud = WordCloud(width=800, height=400, background_color='white').generate_from_frequencies(top_5_tv_service_dict)\n",
        "\n",
        "#Display the wordcloud\n",
        "plt.figure(figsize=(10,6))\n",
        "plt.imshow(wordcloud, interpolation='bilinear')\n",
        "plt.axis('off')\n",
        "plt.show()"
      ]
    },
    {
      "cell_type": "markdown",
      "metadata": {
        "id": "tytqsADVR2x6"
      },
      "source": [
        "## **Task 3 :- Data Export**"
      ]
    },
    {
      "cell_type": "code",
      "execution_count": null,
      "metadata": {
        "id": "DRtnlDI9N-85",
        "outputId": "b2e15d16-bce0-497b-e447-36a6bd979b2f"
      },
      "outputs": [
        {
          "data": {
            "text/html": [
              "<div>\n",
              "<style scoped>\n",
              "    .dataframe tbody tr th:only-of-type {\n",
              "        vertical-align: middle;\n",
              "    }\n",
              "\n",
              "    .dataframe tbody tr th {\n",
              "        vertical-align: top;\n",
              "    }\n",
              "\n",
              "    .dataframe thead th {\n",
              "        text-align: right;\n",
              "    }\n",
              "</style>\n",
              "<table border=\"1\" class=\"dataframe\">\n",
              "  <thead>\n",
              "    <tr style=\"text-align: right;\">\n",
              "      <th></th>\n",
              "      <th>Movie Title</th>\n",
              "      <th>Movie Link</th>\n",
              "      <th>Release Year</th>\n",
              "      <th>Genre</th>\n",
              "      <th>IMDB Rating</th>\n",
              "      <th>Runtime</th>\n",
              "      <th>Age Rating</th>\n",
              "      <th>Production Countries</th>\n",
              "      <th>Streaming Service</th>\n",
              "    </tr>\n",
              "  </thead>\n",
              "  <tbody>\n",
              "    <tr>\n",
              "      <th>3</th>\n",
              "      <td>12th Fail</td>\n",
              "      <td>https://www.justwatch.com/in/movie/12th-fail</td>\n",
              "      <td>2023</td>\n",
              "      <td>Drama</td>\n",
              "      <td>9.1</td>\n",
              "      <td>2h 26min</td>\n",
              "      <td>None</td>\n",
              "      <td>India</td>\n",
              "      <td>Hotstar</td>\n",
              "    </tr>\n",
              "    <tr>\n",
              "      <th>4</th>\n",
              "      <td>Sam Bahadur</td>\n",
              "      <td>https://www.justwatch.com/in/movie/sam-bahadur</td>\n",
              "      <td>2023</td>\n",
              "      <td>Drama, War &amp; Military, History</td>\n",
              "      <td>7.8</td>\n",
              "      <td>2h 30min</td>\n",
              "      <td>UA</td>\n",
              "      <td>India</td>\n",
              "      <td>Zee5</td>\n",
              "    </tr>\n",
              "    <tr>\n",
              "      <th>5</th>\n",
              "      <td>Oppenheimer</td>\n",
              "      <td>https://www.justwatch.com/in/movie/oppenheimer</td>\n",
              "      <td>2023</td>\n",
              "      <td>Drama, History</td>\n",
              "      <td>8.4</td>\n",
              "      <td>3h 1min</td>\n",
              "      <td>UA</td>\n",
              "      <td>United Kingdom, United States</td>\n",
              "      <td>Apple TV</td>\n",
              "    </tr>\n",
              "    <tr>\n",
              "      <th>6</th>\n",
              "      <td>The Kerala Story</td>\n",
              "      <td>https://www.justwatch.com/in/movie/the-kerala-...</td>\n",
              "      <td>2023</td>\n",
              "      <td>Drama</td>\n",
              "      <td>7.1</td>\n",
              "      <td>2h 18min</td>\n",
              "      <td>A</td>\n",
              "      <td>India</td>\n",
              "      <td>Zee5</td>\n",
              "    </tr>\n",
              "    <tr>\n",
              "      <th>13</th>\n",
              "      <td>Hanu-Man</td>\n",
              "      <td>https://www.justwatch.com/in/movie/hanu-man</td>\n",
              "      <td>2024</td>\n",
              "      <td>Fantasy, Comedy, Action &amp; Adventure</td>\n",
              "      <td>8.4</td>\n",
              "      <td>2h 39min</td>\n",
              "      <td>UA</td>\n",
              "      <td>India</td>\n",
              "      <td>None</td>\n",
              "    </tr>\n",
              "  </tbody>\n",
              "</table>\n",
              "</div>"
            ],
            "text/plain": [
              "         Movie Title                                         Movie Link  \\\n",
              "3          12th Fail       https://www.justwatch.com/in/movie/12th-fail   \n",
              "4        Sam Bahadur     https://www.justwatch.com/in/movie/sam-bahadur   \n",
              "5        Oppenheimer     https://www.justwatch.com/in/movie/oppenheimer   \n",
              "6   The Kerala Story  https://www.justwatch.com/in/movie/the-kerala-...   \n",
              "13          Hanu-Man        https://www.justwatch.com/in/movie/hanu-man   \n",
              "\n",
              "    Release Year                                Genre  IMDB Rating   Runtime  \\\n",
              "3           2023                                Drama          9.1  2h 26min   \n",
              "4           2023       Drama, War & Military, History          7.8  2h 30min   \n",
              "5           2023                       Drama, History          8.4   3h 1min   \n",
              "6           2023                                Drama          7.1  2h 18min   \n",
              "13          2024  Fantasy, Comedy, Action & Adventure          8.4  2h 39min   \n",
              "\n",
              "   Age Rating           Production Countries Streaming Service  \n",
              "3        None                          India           Hotstar  \n",
              "4          UA                          India              Zee5  \n",
              "5          UA  United Kingdom, United States          Apple TV  \n",
              "6           A                          India              Zee5  \n",
              "13         UA                          India              None  "
            ]
          },
          "execution_count": 51,
          "metadata": {},
          "output_type": "execute_result"
        }
      ],
      "source": [
        "filtered_movie_df.head()"
      ]
    },
    {
      "cell_type": "code",
      "execution_count": null,
      "metadata": {
        "id": "rrUbC_OhN-86",
        "outputId": "52d4740c-0b25-4156-991e-33b978ccbb20"
      },
      "outputs": [
        {
          "data": {
            "text/html": [
              "<div>\n",
              "<style scoped>\n",
              "    .dataframe tbody tr th:only-of-type {\n",
              "        vertical-align: middle;\n",
              "    }\n",
              "\n",
              "    .dataframe tbody tr th {\n",
              "        vertical-align: top;\n",
              "    }\n",
              "\n",
              "    .dataframe thead th {\n",
              "        text-align: right;\n",
              "    }\n",
              "</style>\n",
              "<table border=\"1\" class=\"dataframe\">\n",
              "  <thead>\n",
              "    <tr style=\"text-align: right;\">\n",
              "      <th></th>\n",
              "      <th>Show Title</th>\n",
              "      <th>TV Show Link</th>\n",
              "      <th>Release Year</th>\n",
              "      <th>Show Genre</th>\n",
              "      <th>IMDB Rating</th>\n",
              "      <th>Age Rating</th>\n",
              "      <th>Production Country</th>\n",
              "      <th>Streaming Service</th>\n",
              "      <th>Runtime</th>\n",
              "    </tr>\n",
              "  </thead>\n",
              "  <tbody>\n",
              "    <tr>\n",
              "      <th>4</th>\n",
              "      <td>Solo Leveling</td>\n",
              "      <td>https://www.justwatch.com/in/tv-show/solo-leve...</td>\n",
              "      <td>2024</td>\n",
              "      <td>Animation, Action &amp; Adventure, Fantasy, Scienc...</td>\n",
              "      <td>8.5</td>\n",
              "      <td>None</td>\n",
              "      <td>South Korea, Japan</td>\n",
              "      <td>Crunchyroll</td>\n",
              "      <td>24min</td>\n",
              "    </tr>\n",
              "    <tr>\n",
              "      <th>8</th>\n",
              "      <td>One Day</td>\n",
              "      <td>https://www.justwatch.com/in/tv-show/one-day</td>\n",
              "      <td>2024</td>\n",
              "      <td>Comedy, Drama, Romance</td>\n",
              "      <td>8.2</td>\n",
              "      <td>None</td>\n",
              "      <td>United Kingdom</td>\n",
              "      <td>Netflix</td>\n",
              "      <td>29min</td>\n",
              "    </tr>\n",
              "    <tr>\n",
              "      <th>11</th>\n",
              "      <td>Reacher</td>\n",
              "      <td>https://www.justwatch.com/in/tv-show/jack-reacher</td>\n",
              "      <td>2022</td>\n",
              "      <td>Action &amp; Adventure, Crime, Drama, Mystery &amp; Th...</td>\n",
              "      <td>8.1</td>\n",
              "      <td>A</td>\n",
              "      <td>United States</td>\n",
              "      <td>Amazon Prime Video</td>\n",
              "      <td>48min</td>\n",
              "    </tr>\n",
              "    <tr>\n",
              "      <th>13</th>\n",
              "      <td>Halo</td>\n",
              "      <td>https://www.justwatch.com/in/tv-show/halo</td>\n",
              "      <td>2022</td>\n",
              "      <td>Action &amp; Adventure, Science-Fiction, Mystery &amp;...</td>\n",
              "      <td>7.2</td>\n",
              "      <td>None</td>\n",
              "      <td>United States</td>\n",
              "      <td>Voot</td>\n",
              "      <td>52min</td>\n",
              "    </tr>\n",
              "    <tr>\n",
              "      <th>15</th>\n",
              "      <td>Avatar: The Last Airbender</td>\n",
              "      <td>https://www.justwatch.com/in/tv-show/avatar-th...</td>\n",
              "      <td>2024</td>\n",
              "      <td>Science-Fiction, Action &amp; Adventure, Comedy, D...</td>\n",
              "      <td>7.4</td>\n",
              "      <td>None</td>\n",
              "      <td>United States</td>\n",
              "      <td>Netflix</td>\n",
              "      <td>54min</td>\n",
              "    </tr>\n",
              "  </tbody>\n",
              "</table>\n",
              "</div>"
            ],
            "text/plain": [
              "                    Show Title  \\\n",
              "4                Solo Leveling   \n",
              "8                      One Day   \n",
              "11                     Reacher   \n",
              "13                        Halo   \n",
              "15  Avatar: The Last Airbender   \n",
              "\n",
              "                                         TV Show Link  Release Year  \\\n",
              "4   https://www.justwatch.com/in/tv-show/solo-leve...          2024   \n",
              "8        https://www.justwatch.com/in/tv-show/one-day          2024   \n",
              "11  https://www.justwatch.com/in/tv-show/jack-reacher          2022   \n",
              "13          https://www.justwatch.com/in/tv-show/halo          2022   \n",
              "15  https://www.justwatch.com/in/tv-show/avatar-th...          2024   \n",
              "\n",
              "                                           Show Genre  IMDB Rating Age Rating  \\\n",
              "4   Animation, Action & Adventure, Fantasy, Scienc...          8.5       None   \n",
              "8                              Comedy, Drama, Romance          8.2       None   \n",
              "11  Action & Adventure, Crime, Drama, Mystery & Th...          8.1          A   \n",
              "13  Action & Adventure, Science-Fiction, Mystery &...          7.2       None   \n",
              "15  Science-Fiction, Action & Adventure, Comedy, D...          7.4       None   \n",
              "\n",
              "    Production Country   Streaming Service Runtime  \n",
              "4   South Korea, Japan         Crunchyroll   24min  \n",
              "8       United Kingdom             Netflix   29min  \n",
              "11       United States  Amazon Prime Video   48min  \n",
              "13       United States                Voot   52min  \n",
              "15       United States             Netflix   54min  "
            ]
          },
          "execution_count": 52,
          "metadata": {},
          "output_type": "execute_result"
        }
      ],
      "source": [
        "filtered_tv_show_df.head()"
      ]
    },
    {
      "cell_type": "code",
      "execution_count": null,
      "metadata": {
        "id": "u4yaUlvrRj6g"
      },
      "outputs": [],
      "source": [
        "#saving final dataframe as Final Data in csv format\n",
        "#saving final dataframe as Final Data in csv format\n",
        "movies_df.to_csv('Just watch Movies Info.csv', index=False)\n",
        "tv_show_df.to_csv('Just watch TV Show Info.csv', index=False)"
      ]
    },
    {
      "cell_type": "code",
      "execution_count": null,
      "metadata": {
        "id": "SSmCEV22SSW_"
      },
      "outputs": [],
      "source": [
        "#saving filter data as Filter Data in csv format\n",
        "filtered_movie_df.to_csv('Recent Good Movies Info.csv', index=False)\n",
        "filtered_tv_show_df.to_csv('Recent Good TV Show Info.csv', index=False)"
      ]
    },
    {
      "cell_type": "markdown",
      "metadata": {
        "id": "j6F3wrlGWOcl"
      },
      "source": [
        "# **Dataset Drive Link (View Access with Anyone) -**"
      ]
    },
    {
      "cell_type": "markdown",
      "metadata": {
        "id": "9s-10dFhWZf4"
      },
      "source": [
        "# ***Congratulations!!! You have completed your Assignment.***"
      ]
    }
  ],
  "metadata": {
    "colab": {
      "collapsed_sections": [
        "bKFlk3slQ1ol",
        "k8ptoMlNQ5zB",
        "-xHLaFLPn4yC",
        "NCWbwB1Og3bD",
        "V-qsNrtIsBEp",
        "Dam_ehZgvgmw",
        "VEg1U1uPzGoj",
        "aqzhL8STqaMX",
        "UOof6-0xFuf6",
        "8CHiu0A5RAuM",
        "edb4gsNcRJQN",
        "_RI5FD3CqFVV",
        "IrJlIsBWrO2r",
        "Mnh22VX_7f6K",
        "LYQ5acWzJRZr",
        "ev-VUSNvJ-fJ",
        "1vZLzmqcKDPX",
        "mEIt9j6RKa9B",
        "P96pGO9kRCLv",
        "hk3eSdDAXQv8",
        "XZ9nJhmiZB_W",
        "ii49LH4tdNoN",
        "mHZwwgiKdlQm",
        "uUOtDJv9gM4a",
        "nD4QVPT-nfVR",
        "CyqHHKh4IDx6",
        "0bPDbn-gPyfm",
        "N_OroblUQG4r",
        "BUPye0P0QP5I",
        "tytqsADVR2x6"
      ],
      "provenance": []
    },
    "kernelspec": {
      "display_name": "Python 3 (ipykernel)",
      "language": "python",
      "name": "python3"
    },
    "language_info": {
      "codemirror_mode": {
        "name": "ipython",
        "version": 3
      },
      "file_extension": ".py",
      "mimetype": "text/x-python",
      "name": "python",
      "nbconvert_exporter": "python",
      "pygments_lexer": "ipython3",
      "version": "3.11.1"
    }
  },
  "nbformat": 4,
  "nbformat_minor": 0
}